{
 "cells": [
  {
   "cell_type": "markdown",
   "id": "a67377ab",
   "metadata": {
    "papermill": {
     "duration": 0.006033,
     "end_time": "2024-08-09T16:35:23.662893",
     "exception": false,
     "start_time": "2024-08-09T16:35:23.656860",
     "status": "completed"
    },
    "tags": []
   },
   "source": [
    "# Projet MLOps: Segmentation des clients Olist"
   ]
  },
  {
   "cell_type": "markdown",
   "id": "c582fbfd",
   "metadata": {
    "papermill": {
     "duration": 0.002943,
     "end_time": "2024-08-09T16:35:23.669363",
     "exception": false,
     "start_time": "2024-08-09T16:35:23.666420",
     "status": "completed"
    },
    "tags": []
   },
   "source": [
    "## Notebook 2: Stabilité temporelle\n",
    "\n",
    "Dans les précédents notebooks nous avons eu à effectuer l'analyse exploratoire ainsi qu'à entrainé nos modèles sur les données afin d'avoir une segmentation des clients.</br>\n",
    "Cependant la segmentation des clients basée sur le clustering est un processus dynamique plutôt que statique. À mesure que les clients évoluent au fil du temps, leurs préférences et leurs comportements changent, ce qui peut entraîner des modifications des clusters définis par le modèle. Pour maintenir l'exactitude et la pertinence, il est crucial de déterminer une fréquence appropriée pour mettre à jour ces modèles, afin de garantir qu'ils reflètent les caractéristiques actuelles des clients et les conditions du marché.\n",
    "\n",
    "<img src=\"../images/change.jpeg\" alt=\"dataset_configuration\" width=\"1200\"/>"
   ]
  },
  {
   "cell_type": "markdown",
   "id": "b445284b",
   "metadata": {
    "papermill": {
     "duration": 0.002319,
     "end_time": "2024-08-09T16:35:23.674274",
     "exception": false,
     "start_time": "2024-08-09T16:35:23.671955",
     "status": "completed"
    },
    "tags": []
   },
   "source": [
    "## Import des bibliothèques"
   ]
  },
  {
   "cell_type": "code",
   "execution_count": 1,
   "id": "dbf98955",
   "metadata": {
    "execution": {
     "iopub.execute_input": "2024-08-09T16:35:23.679883Z",
     "iopub.status.busy": "2024-08-09T16:35:23.679605Z",
     "iopub.status.idle": "2024-08-09T16:35:24.885155Z",
     "shell.execute_reply": "2024-08-09T16:35:24.884709Z"
    },
    "jupyter": {
     "source_hidden": true
    },
    "papermill": {
     "duration": 1.209962,
     "end_time": "2024-08-09T16:35:24.886905",
     "exception": false,
     "start_time": "2024-08-09T16:35:23.676943",
     "status": "completed"
    },
    "tags": []
   },
   "outputs": [],
   "source": [
    "%reload_ext autoreload\n",
    "%autoreload 2\n",
    "%matplotlib inline\n",
    "import pendulum\n",
    "import pandas as pd\n",
    "import numpy as np\n",
    "import matplotlib.pyplot as plt\n",
    "import seaborn as sns\n",
    "import sys\n",
    "import warnings\n",
    "import pickle\n",
    "\n",
    "from sklearn.cluster import KMeans\n",
    "from sklearn.pipeline import Pipeline\n",
    "from sklearn.preprocessing import StandardScaler\n",
    "from sklearn.decomposition import PCA\n",
    "from pathlib import Path\n",
    "from loguru import logger\n",
    "from sklearn.metrics import adjusted_rand_score\n",
    "\n",
    "sys.path.append(str(Path.cwd().parent))\n",
    "from settings.params import PARAMS\n",
    "from src.load_dataset import load_data, make_stability_dataset\n",
    "\n",
    "pd.set_option(\"display.max_columns\", None)\n",
    "pd.set_option(\"display.max_rows\", 25)\n",
    "warnings.filterwarnings(\"ignore\")"
   ]
  },
  {
   "cell_type": "code",
   "execution_count": 2,
   "id": "feafa47d",
   "metadata": {
    "execution": {
     "iopub.execute_input": "2024-08-09T16:35:24.892015Z",
     "iopub.status.busy": "2024-08-09T16:35:24.891724Z",
     "iopub.status.idle": "2024-08-09T16:35:24.913771Z",
     "shell.execute_reply": "2024-08-09T16:35:24.913365Z"
    },
    "jupyter": {
     "source_hidden": true
    },
    "papermill": {
     "duration": 0.026282,
     "end_time": "2024-08-09T16:35:24.915254",
     "exception": false,
     "start_time": "2024-08-09T16:35:24.888972",
     "status": "completed"
    },
    "tags": []
   },
   "outputs": [
    {
     "name": "stderr",
     "output_type": "stream",
     "text": [
      "\u001b[34m2024-08-09 16:35:24.911\u001b[0m | \u001b[1mINFO    \u001b[0m | \u001b[32m__main__\u001b[0m:\u001b[35m<module>\u001b[0m:\u001b[33m18\u001b[0m | \u001b[36mThread: MainThread\u001b[0m | \u001b[37mPID: 54969\u001b[0m - Project directory: /Users/massamba/Desktop/MLOps/projet_mlops,  Outputs directory: /Users/massamba/Desktop/MLOps/projet_mlops/output_files\n"
     ]
    }
   ],
   "source": [
    "# Set logging format\n",
    "log_fmt = (\n",
    "    \"<blue>{time:YYYY-MM-DD HH:mm:ss.SSS!UTC}</blue> | \"\n",
    "    \"<level>{level: <8}</level> | \"\n",
    "    \"<green>{name}</green>:<magenta>{function}</magenta>:<yellow>{line}</yellow> | \"\n",
    "    \"<cyan>Thread: {thread.name}</cyan> | \"\n",
    "    \"<white>PID: {process}</white> - {message}\"\n",
    ")\n",
    "logger.configure(handlers=[{'sink': sys.stderr, 'format': log_fmt}])\n",
    "\n",
    "# Current date\n",
    "CURRENT_DATE = pendulum.now(tz=\"UTC\")\n",
    "\n",
    "# Directories\n",
    "PROJECT_DIR = Path.cwd().parent\n",
    "OUTPUTS_DIR = Path(PROJECT_DIR, \"output_files\")\n",
    "\n",
    "logger.info(f\"Project directory: {PROJECT_DIR},  Outputs directory: {OUTPUTS_DIR}\")"
   ]
  },
  {
   "cell_type": "markdown",
   "id": "3284b16a",
   "metadata": {
    "papermill": {
     "duration": 0.001368,
     "end_time": "2024-08-09T16:35:24.918808",
     "exception": false,
     "start_time": "2024-08-09T16:35:24.917440",
     "status": "completed"
    },
    "tags": []
   },
   "source": [
    "## Détermination de la fréquence"
   ]
  },
  {
   "cell_type": "code",
   "execution_count": 3,
   "id": "d94ee117",
   "metadata": {
    "execution": {
     "iopub.execute_input": "2024-08-09T16:35:24.924276Z",
     "iopub.status.busy": "2024-08-09T16:35:24.923825Z",
     "iopub.status.idle": "2024-08-09T16:35:25.399827Z",
     "shell.execute_reply": "2024-08-09T16:35:25.399401Z"
    },
    "jupyter": {
     "source_hidden": true
    },
    "papermill": {
     "duration": 0.480844,
     "end_time": "2024-08-09T16:35:25.401361",
     "exception": false,
     "start_time": "2024-08-09T16:35:24.920517",
     "status": "completed"
    },
    "tags": []
   },
   "outputs": [
    {
     "name": "stderr",
     "output_type": "stream",
     "text": [
      "\u001b[34m2024-08-09 16:35:24.937\u001b[0m | \u001b[1mINFO    \u001b[0m | \u001b[32msrc.load_dataset\u001b[0m:\u001b[35mload_data\u001b[0m:\u001b[33m17\u001b[0m | \u001b[36mThread: MainThread\u001b[0m | \u001b[37mPID: 54969\u001b[0m - Dataset path to load /Users/massamba/Desktop/MLOps/projet_mlops/output_files/segmentation_01_analyse_step1.csv\n"
     ]
    },
    {
     "name": "stderr",
     "output_type": "stream",
     "text": [
      "\u001b[34m2024-08-09 16:35:25.372\u001b[0m | \u001b[1mINFO    \u001b[0m | \u001b[32msrc.load_dataset\u001b[0m:\u001b[35mload_data\u001b[0m:\u001b[33m27\u001b[0m | \u001b[36mThread: MainThread\u001b[0m | \u001b[37mPID: 54969\u001b[0m - Data shape: (115903, 22)\n"
     ]
    },
    {
     "name": "stdout",
     "output_type": "stream",
     "text": [
      "   Unnamed: 0                          order_id  \\\n",
      "0           0  e481f51cbdc54678b7cc49136f2d6af7   \n",
      "1           1  e481f51cbdc54678b7cc49136f2d6af7   \n",
      "2           2  e481f51cbdc54678b7cc49136f2d6af7   \n",
      "3           3  128e10d95713541c87cd1a2e48201934   \n",
      "4           4  0e7e841ddf8f8f2de2bad69267ecfbcf   \n",
      "5           5  bfc39df4f36c3693ff3b63fcbea9e90a   \n",
      "6           6  8736140c61ea584cb4250074756d8f3b   \n",
      "7           7  88407c8c6e12493ff6e845df39540112   \n",
      "8           8  4f2acff0b7d2bcc4a408abe5a223d407   \n",
      "9           9  019aaee09698daf81dcffe9d94a18b5c   \n",
      "\n",
      "                        customer_id order_status order_purchase_timestamp  \\\n",
      "0  9ef432eb6251297304e76186b10a928d    delivered      2017-10-02 10:56:33   \n",
      "1  9ef432eb6251297304e76186b10a928d    delivered      2017-10-02 10:56:33   \n",
      "2  9ef432eb6251297304e76186b10a928d    delivered      2017-10-02 10:56:33   \n",
      "3  a20e8105f23924cd00833fd87daa0831    delivered      2017-08-15 18:29:31   \n",
      "4  26c7ac168e1433912a51b924fbd34d34    delivered      2017-08-02 18:24:47   \n",
      "5  53904ddbea91e1e92b2b3f1d09a7af86    delivered      2017-10-23 23:26:46   \n",
      "6  ab8844663ae049fda8baf15fc928f47f    delivered      2017-08-10 13:35:55   \n",
      "7  e902cb9d9992a69a267f69dec57aa3a3    delivered      2017-08-15 02:03:01   \n",
      "8  d67b6cca5a87299f711a6961f579fe67    delivered      2017-08-01 16:31:35   \n",
      "9  e3893e579755de4feb1a4d0313c103fa    delivered      2017-08-10 14:04:58   \n",
      "\n",
      "   order_item_id                        product_id  \\\n",
      "0            1.0  87285b34884572647811a353c7ac498a   \n",
      "1            1.0  87285b34884572647811a353c7ac498a   \n",
      "2            1.0  87285b34884572647811a353c7ac498a   \n",
      "3            1.0  87285b34884572647811a353c7ac498a   \n",
      "4            1.0  87285b34884572647811a353c7ac498a   \n",
      "5            1.0  87285b34884572647811a353c7ac498a   \n",
      "6            1.0  b00a32a0b42fd65efb58a5822009f629   \n",
      "7            1.0  b00a32a0b42fd65efb58a5822009f629   \n",
      "8            1.0  b00a32a0b42fd65efb58a5822009f629   \n",
      "9            1.0  b00a32a0b42fd65efb58a5822009f629   \n",
      "\n",
      "                          seller_id  price  freight_value  payment_sequential  \\\n",
      "0  3504c0cb71d7fa48d967e0e4c94d59d9  29.99           8.72                 1.0   \n",
      "1  3504c0cb71d7fa48d967e0e4c94d59d9  29.99           8.72                 3.0   \n",
      "2  3504c0cb71d7fa48d967e0e4c94d59d9  29.99           8.72                 2.0   \n",
      "3  3504c0cb71d7fa48d967e0e4c94d59d9  29.99           7.78                 1.0   \n",
      "4  3504c0cb71d7fa48d967e0e4c94d59d9  29.99           7.78                 1.0   \n",
      "5  3504c0cb71d7fa48d967e0e4c94d59d9  29.99          14.10                 1.0   \n",
      "6  3504c0cb71d7fa48d967e0e4c94d59d9  75.90           7.79                 1.0   \n",
      "7  3504c0cb71d7fa48d967e0e4c94d59d9  75.90           7.79                 1.0   \n",
      "8  3504c0cb71d7fa48d967e0e4c94d59d9  75.90          14.28                 1.0   \n",
      "9  3504c0cb71d7fa48d967e0e4c94d59d9  75.90           7.79                 1.0   \n",
      "\n",
      "  payment_type  payment_installments  payment_value product_category_name  \\\n",
      "0  credit_card                   1.0          18.12            housewares   \n",
      "1      voucher                   1.0           2.00            housewares   \n",
      "2      voucher                   1.0          18.59            housewares   \n",
      "3  credit_card                   3.0          37.77            housewares   \n",
      "4  credit_card                   1.0          37.77            housewares   \n",
      "5       boleto                   1.0          44.09            housewares   \n",
      "6  credit_card                   1.0          83.69                  baby   \n",
      "7  credit_card                   2.0          83.69                  baby   \n",
      "8       boleto                   1.0          90.18                  baby   \n",
      "9  credit_card                   2.0          83.69                  baby   \n",
      "\n",
      "                 customer_unique_id  customer_zip_code_prefix  \\\n",
      "0  7c396fd4830fd04220f754e42b4e5bff                      3149   \n",
      "1  7c396fd4830fd04220f754e42b4e5bff                      3149   \n",
      "2  7c396fd4830fd04220f754e42b4e5bff                      3149   \n",
      "3  3a51803cc0d012c3b5dc8b7528cb05f7                      3366   \n",
      "4  ef0996a1a279c26e7ecbd737be23d235                      2290   \n",
      "5  e781fdcc107d13d865fc7698711cc572                     88032   \n",
      "6  02c9e0c05a817d4562ec0e8c90f29dba                      8577   \n",
      "7  28adbfbaf0b9c5e5a0555a8c853a7534                     13060   \n",
      "8  aea90564d6f09ae11bf936f55ed49d72                     82030   \n",
      "9  cd6b577df45c00daa6b2767eaa947c72                     13092   \n",
      "\n",
      "     customer_city customer_state  seller_zip_code_prefix seller_city  \\\n",
      "0        sao paulo             SP                  9350.0        maua   \n",
      "1        sao paulo             SP                  9350.0        maua   \n",
      "2        sao paulo             SP                  9350.0        maua   \n",
      "3        sao paulo             SP                  9350.0        maua   \n",
      "4        sao paulo             SP                  9350.0        maua   \n",
      "5    florianopolis             SC                  9350.0        maua   \n",
      "6  itaquaquecetuba             SP                  9350.0        maua   \n",
      "7         campinas             SP                  9350.0        maua   \n",
      "8         curitiba             PR                  9350.0        maua   \n",
      "9         campinas             SP                  9350.0        maua   \n",
      "\n",
      "  seller_state  \n",
      "0           SP  \n",
      "1           SP  \n",
      "2           SP  \n",
      "3           SP  \n",
      "4           SP  \n",
      "5           SP  \n",
      "6           SP  \n",
      "7           SP  \n",
      "8           SP  \n",
      "9           SP  \n"
     ]
    }
   ],
   "source": [
    "df = load_data(f\"{OUTPUTS_DIR}/segmentation_01_analyse_step1.csv\")\n",
    "orders = df[\"order_purchase_timestamp\"]\n",
    "orders = pd.to_datetime(orders)\n",
    "time_delta = int((orders.max() - orders.min())/np.timedelta64(1,'M'))"
   ]
  },
  {
   "cell_type": "code",
   "execution_count": 4,
   "id": "b63f829d",
   "metadata": {
    "execution": {
     "iopub.execute_input": "2024-08-09T16:35:25.406353Z",
     "iopub.status.busy": "2024-08-09T16:35:25.406089Z",
     "iopub.status.idle": "2024-08-09T16:35:25.428686Z",
     "shell.execute_reply": "2024-08-09T16:35:25.428155Z"
    },
    "jupyter": {
     "source_hidden": true
    },
    "papermill": {
     "duration": 0.026636,
     "end_time": "2024-08-09T16:35:25.430143",
     "exception": false,
     "start_time": "2024-08-09T16:35:25.403507",
     "status": "completed"
    },
    "tags": []
   },
   "outputs": [
    {
     "name": "stdout",
     "output_type": "stream",
     "text": [
      "La période totale des commandes sur les données est de 23 mois\n"
     ]
    }
   ],
   "source": [
    "print(f\"La période totale des commandes sur les données est de {time_delta} mois\")"
   ]
  },
  {
   "cell_type": "markdown",
   "id": "fad4dc5b",
   "metadata": {
    "papermill": {
     "duration": 0.001868,
     "end_time": "2024-08-09T16:35:25.434389",
     "exception": false,
     "start_time": "2024-08-09T16:35:25.432521",
     "status": "completed"
    },
    "tags": []
   },
   "source": [
    "### Intialisation\n",
    "\n",
    "Pour déterminer la stabilité nous nous positionnons initialement sur la période 12 donc 1 an après le début du jeu de données afin de créer notre jeu de données initial"
   ]
  },
  {
   "cell_type": "code",
   "execution_count": 5,
   "id": "b0e4ed5f",
   "metadata": {
    "execution": {
     "iopub.execute_input": "2024-08-09T16:35:25.440861Z",
     "iopub.status.busy": "2024-08-09T16:35:25.440588Z",
     "iopub.status.idle": "2024-08-09T16:35:27.323085Z",
     "shell.execute_reply": "2024-08-09T16:35:27.322114Z"
    },
    "jupyter": {
     "source_hidden": true
    },
    "papermill": {
     "duration": 1.888227,
     "end_time": "2024-08-09T16:35:27.326150",
     "exception": false,
     "start_time": "2024-08-09T16:35:25.437923",
     "status": "completed"
    },
    "tags": []
   },
   "outputs": [
    {
     "name": "stderr",
     "output_type": "stream",
     "text": [
      "\u001b[34m2024-08-09 16:35:26.096\u001b[0m | \u001b[1mINFO    \u001b[0m | \u001b[32msrc.load_dataset\u001b[0m:\u001b[35mmake_stability_dataset\u001b[0m:\u001b[33m146\u001b[0m | \u001b[36mThread: MainThread\u001b[0m | \u001b[37mPID: 54969\u001b[0m - Data shape: (23071, 8)\n"
     ]
    }
   ],
   "source": [
    "initial_data = make_stability_dataset(f\"{OUTPUTS_DIR}/segmentation_01_analyse_step1.csv\", 12)\n",
    "data_period = initial_data[initial_data.index.isin(df.index)]\n",
    "\n",
    "inital_model = Pipeline([('scaler', StandardScaler()),\n",
    "                        ('pca', PCA(n_components=0.95)),\n",
    "                         (\"kmeans\", KMeans(5, random_state=PARAMS[\"SEED\"]))])\n",
    "inital_model.fit(initial_data)\n",
    "initial_labels = inital_model.named_steps['kmeans'].labels_"
   ]
  },
  {
   "cell_type": "markdown",
   "id": "d3211be4",
   "metadata": {
    "papermill": {
     "duration": 0.003438,
     "end_time": "2024-08-09T16:35:27.333836",
     "exception": false,
     "start_time": "2024-08-09T16:35:27.330398",
     "status": "completed"
    },
    "tags": []
   },
   "source": [
    "Pour déterminer le moment où les clients changent de cluster, nous allons itérer le K-Means sur toute les périodes suviantes avec des deltas de 2 mois et calculer le score ARI"
   ]
  },
  {
   "cell_type": "code",
   "execution_count": 6,
   "id": "d2ee9d3d",
   "metadata": {
    "execution": {
     "iopub.execute_input": "2024-08-09T16:35:27.338846Z",
     "iopub.status.busy": "2024-08-09T16:35:27.338639Z",
     "iopub.status.idle": "2024-08-09T16:35:41.972898Z",
     "shell.execute_reply": "2024-08-09T16:35:41.972182Z"
    },
    "jupyter": {
     "source_hidden": true
    },
    "papermill": {
     "duration": 14.641274,
     "end_time": "2024-08-09T16:35:41.977015",
     "exception": false,
     "start_time": "2024-08-09T16:35:27.335741",
     "status": "completed"
    },
    "tags": []
   },
   "outputs": [
    {
     "name": "stderr",
     "output_type": "stream",
     "text": [
      "\u001b[34m2024-08-09 16:35:28.132\u001b[0m | \u001b[1mINFO    \u001b[0m | \u001b[32msrc.load_dataset\u001b[0m:\u001b[35mmake_stability_dataset\u001b[0m:\u001b[33m146\u001b[0m | \u001b[36mThread: MainThread\u001b[0m | \u001b[37mPID: 54969\u001b[0m - Data shape: (31727, 8)\n"
     ]
    },
    {
     "name": "stderr",
     "output_type": "stream",
     "text": [
      "\u001b[34m2024-08-09 16:35:31.119\u001b[0m | \u001b[1mINFO    \u001b[0m | \u001b[32msrc.load_dataset\u001b[0m:\u001b[35mmake_stability_dataset\u001b[0m:\u001b[33m146\u001b[0m | \u001b[36mThread: MainThread\u001b[0m | \u001b[37mPID: 54969\u001b[0m - Data shape: (44783, 8)\n"
     ]
    },
    {
     "name": "stderr",
     "output_type": "stream",
     "text": [
      "\u001b[34m2024-08-09 16:35:33.462\u001b[0m | \u001b[1mINFO    \u001b[0m | \u001b[32msrc.load_dataset\u001b[0m:\u001b[35mmake_stability_dataset\u001b[0m:\u001b[33m146\u001b[0m | \u001b[36mThread: MainThread\u001b[0m | \u001b[37mPID: 54969\u001b[0m - Data shape: (58648, 8)\n"
     ]
    },
    {
     "name": "stderr",
     "output_type": "stream",
     "text": [
      "\u001b[34m2024-08-09 16:35:36.849\u001b[0m | \u001b[1mINFO    \u001b[0m | \u001b[32msrc.load_dataset\u001b[0m:\u001b[35mmake_stability_dataset\u001b[0m:\u001b[33m146\u001b[0m | \u001b[36mThread: MainThread\u001b[0m | \u001b[37mPID: 54969\u001b[0m - Data shape: (72737, 8)\n"
     ]
    },
    {
     "name": "stderr",
     "output_type": "stream",
     "text": [
      "\u001b[34m2024-08-09 16:35:40.419\u001b[0m | \u001b[1mINFO    \u001b[0m | \u001b[32msrc.load_dataset\u001b[0m:\u001b[35mmake_stability_dataset\u001b[0m:\u001b[33m146\u001b[0m | \u001b[36mThread: MainThread\u001b[0m | \u001b[37mPID: 54969\u001b[0m - Data shape: (85406, 8)\n"
     ]
    }
   ],
   "source": [
    "ari_score = []\n",
    "for p in np.arange(14, 23 ,2):\n",
    "    data_period = make_stability_dataset(f\"{OUTPUTS_DIR}/segmentation_01_analyse_step1.csv\", p)\n",
    "    data_period = data_period[data_period.index.isin(initial_data.index)]\n",
    "    \n",
    "    kmeans_p = Pipeline([('scaler', StandardScaler()),\n",
    "                        ('pca', PCA(n_components=0.95)),\n",
    "                         (\"kmeans\", KMeans(6, random_state=PARAMS[\"SEED\"]))])\n",
    "    kmeans_p.fit(data_period)\n",
    "    p_labels = kmeans_p.named_steps['kmeans'].labels_\n",
    "\n",
    "    ari_p = adjusted_rand_score(initial_labels, p_labels)\n",
    "    ari_score.append([p-12,ari_p])"
   ]
  },
  {
   "cell_type": "code",
   "execution_count": 7,
   "id": "e6f97fbf",
   "metadata": {
    "execution": {
     "iopub.execute_input": "2024-08-09T16:35:41.986729Z",
     "iopub.status.busy": "2024-08-09T16:35:41.986422Z",
     "iopub.status.idle": "2024-08-09T16:35:42.187521Z",
     "shell.execute_reply": "2024-08-09T16:35:42.187103Z"
    },
    "jupyter": {
     "source_hidden": true
    },
    "papermill": {
     "duration": 0.207169,
     "end_time": "2024-08-09T16:35:42.188636",
     "exception": false,
     "start_time": "2024-08-09T16:35:41.981467",
     "status": "completed"
    },
    "tags": []
   },
   "outputs": [
    {
     "data": {
      "image/png": "[encoded data removed]",
      "text/plain": [
       "<Figure size 1200x800 with 1 Axes>"
      ]
     },
     "metadata": {},
     "output_type": "display_data"
    }
   ],
   "source": [
    "ari_score = pd.DataFrame(ari_score, columns=[\"periode\", \"ARI\"])\n",
    "\n",
    "fig = plt.figure(figsize=(12,8))\n",
    "sns.lineplot(data=ari_score, x=\"periode\", y=\"ARI\")\n",
    "plt.xlabel(\"Période\")\n",
    "plt.ylabel(\"Score ARI\")\n",
    "plt.title(\"Stabilité temporelle de la segmentation par K-Means\",\n",
    "          fontsize=18,\n",
    "          color=\"b\")\n",
    "plt.show()"
   ]
  },
  {
   "cell_type": "markdown",
   "id": "8888e165",
   "metadata": {
    "papermill": {
     "duration": 0.002358,
     "end_time": "2024-08-09T16:35:42.193433",
     "exception": false,
     "start_time": "2024-08-09T16:35:42.191075",
     "status": "completed"
    },
    "tags": []
   },
   "source": [
    "Nous constatons que la cohérence entre les clusters est très basse dès la première période et donc par conséquence il est nécessaire de mettre à jour le modèle chaque 2 mois."
   ]
  }
 ],
 "metadata": {
  "kernelspec": {
   "display_name": "Python 3",
   "language": "python",
   "name": "python3"
  },
  "language_info": {
   "codemirror_mode": {
    "name": "ipython",
    "version": 3
   },
   "file_extension": ".py",
   "mimetype": "text/x-python",
   "name": "python",
   "nbconvert_exporter": "python",
   "pygments_lexer": "ipython3",
   "version": "3.8.19"
  },
  "papermill": {
   "default_parameters": {},
   "duration": 19.724254,
   "end_time": "2024-08-09T16:35:42.514907",
   "environment_variables": {},
   "exception": null,
   "input_path": "segmentation_03_stabilite.ipynb",
   "output_path": "/Users/massamba/Desktop/MLOps/projet_mlops/logs/2024/08/stability/20240809-1625-olist-stability-artifcat.ipynb",
   "parameters": {},
   "start_time": "2024-08-09T16:35:22.790653",
   "version": "2.6.0"
  }
 },
 "nbformat": 4,
 "nbformat_minor": 5
}