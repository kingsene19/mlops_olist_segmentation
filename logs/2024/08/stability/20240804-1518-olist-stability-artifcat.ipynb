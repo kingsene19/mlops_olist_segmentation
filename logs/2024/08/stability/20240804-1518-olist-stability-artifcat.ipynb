{
 "cells": [
  {
   "cell_type": "markdown",
   "id": "fd8f6c92",
   "metadata": {
    "papermill": {
     "duration": 0.00609,
     "end_time": "2024-08-04T15:27:51.173676",
     "exception": false,
     "start_time": "2024-08-04T15:27:51.167586",
     "status": "completed"
    },
    "tags": []
   },
   "source": [
    "# Projet MLOps: Segmentation des clients Olist"
   ]
  },
  {
   "cell_type": "markdown",
   "id": "8f62a6d3",
   "metadata": {
    "papermill": {
     "duration": 0.002453,
     "end_time": "2024-08-04T15:27:51.180151",
     "exception": false,
     "start_time": "2024-08-04T15:27:51.177698",
     "status": "completed"
    },
    "tags": []
   },
   "source": [
    "## Notebook 2: Stabilité temporelle\n",
    "\n",
    "Dans les précédents notebooks nous avons eu à effectuer l'analyse exploratoire ainsi qu'à entrainé nos modèles sur les données afin d'avoir une segmentation des clients.</br>\n",
    "Cependant la segmentation des clients basée sur le clustering est un processus dynamique plutôt que statique. À mesure que les clients évoluent au fil du temps, leurs préférences et leurs comportements changent, ce qui peut entraîner des modifications des clusters définis par le modèle. Pour maintenir l'exactitude et la pertinence, il est crucial de déterminer une fréquence appropriée pour mettre à jour ces modèles, afin de garantir qu'ils reflètent les caractéristiques actuelles des clients et les conditions du marché.\n",
    "\n",
    "<img src=\"../images/change.jpeg\" alt=\"dataset_configuration\" width=\"1200\"/>"
   ]
  },
  {
   "cell_type": "markdown",
   "id": "d9950123",
   "metadata": {
    "papermill": {
     "duration": 0.00301,
     "end_time": "2024-08-04T15:27:51.185517",
     "exception": false,
     "start_time": "2024-08-04T15:27:51.182507",
     "status": "completed"
    },
    "tags": []
   },
   "source": [
    "## Import des bibliothèques"
   ]
  },
  {
   "cell_type": "code",
   "execution_count": 1,
   "id": "3bbabbc2",
   "metadata": {
    "execution": {
     "iopub.execute_input": "2024-08-04T15:27:51.190697Z",
     "iopub.status.busy": "2024-08-04T15:27:51.190455Z",
     "iopub.status.idle": "2024-08-04T15:27:52.347898Z",
     "shell.execute_reply": "2024-08-04T15:27:52.347495Z"
    },
    "jupyter": {
     "source_hidden": true
    },
    "papermill": {
     "duration": 1.161824,
     "end_time": "2024-08-04T15:27:52.349534",
     "exception": false,
     "start_time": "2024-08-04T15:27:51.187710",
     "status": "completed"
    },
    "tags": []
   },
   "outputs": [],
   "source": [
    "%reload_ext autoreload\n",
    "%autoreload 2\n",
    "%matplotlib inline\n",
    "import pendulum\n",
    "import pandas as pd\n",
    "import numpy as np\n",
    "import matplotlib.pyplot as plt\n",
    "import seaborn as sns\n",
    "import sys\n",
    "import warnings\n",
    "import pickle\n",
    "\n",
    "from sklearn.cluster import KMeans\n",
    "from sklearn.pipeline import Pipeline\n",
    "from sklearn.preprocessing import StandardScaler\n",
    "from sklearn.decomposition import PCA\n",
    "from pathlib import Path\n",
    "from loguru import logger\n",
    "from sklearn.metrics import adjusted_rand_score\n",
    "\n",
    "sys.path.append(str(Path.cwd().parent))\n",
    "from settings.params import PARAMS\n",
    "from src.load_dataset import load_data, make_stability_dataset\n",
    "\n",
    "pd.set_option(\"display.max_columns\", None)\n",
    "pd.set_option(\"display.max_rows\", 25)\n",
    "warnings.filterwarnings(\"ignore\")"
   ]
  },
  {
   "cell_type": "code",
   "execution_count": 2,
   "id": "78a3333d",
   "metadata": {
    "execution": {
     "iopub.execute_input": "2024-08-04T15:27:52.353881Z",
     "iopub.status.busy": "2024-08-04T15:27:52.353603Z",
     "iopub.status.idle": "2024-08-04T15:27:52.375336Z",
     "shell.execute_reply": "2024-08-04T15:27:52.374963Z"
    },
    "jupyter": {
     "source_hidden": true
    },
    "papermill": {
     "duration": 0.024964,
     "end_time": "2024-08-04T15:27:52.376488",
     "exception": false,
     "start_time": "2024-08-04T15:27:52.351524",
     "status": "completed"
    },
    "tags": []
   },
   "outputs": [
    {
     "name": "stderr",
     "output_type": "stream",
     "text": [
      "\u001b[34m2024-08-04 15:27:52.373\u001b[0m | \u001b[1mINFO    \u001b[0m | \u001b[32m__main__\u001b[0m:\u001b[35m<module>\u001b[0m:\u001b[33m18\u001b[0m | \u001b[36mThread: MainThread\u001b[0m | \u001b[37mPID: 46901\u001b[0m - Project directory: /Users/massamba/Desktop/MLOps/projet_mlops,  Outputs directory: /Users/massamba/Desktop/MLOps/projet_mlops/output_files\n"
     ]
    }
   ],
   "source": [
    "# Set logging format\n",
    "log_fmt = (\n",
    "    \"<blue>{time:YYYY-MM-DD HH:mm:ss.SSS!UTC}</blue> | \"\n",
    "    \"<level>{level: <8}</level> | \"\n",
    "    \"<green>{name}</green>:<magenta>{function}</magenta>:<yellow>{line}</yellow> | \"\n",
    "    \"<cyan>Thread: {thread.name}</cyan> | \"\n",
    "    \"<white>PID: {process}</white> - {message}\"\n",
    ")\n",
    "logger.configure(handlers=[{'sink': sys.stderr, 'format': log_fmt}])\n",
    "\n",
    "# Current date\n",
    "CURRENT_DATE = pendulum.now(tz=\"UTC\")\n",
    "\n",
    "# Directories\n",
    "PROJECT_DIR = Path.cwd().parent\n",
    "OUTPUTS_DIR = Path(PROJECT_DIR, \"output_files\")\n",
    "\n",
    "logger.info(f\"Project directory: {PROJECT_DIR},  Outputs directory: {OUTPUTS_DIR}\")"
   ]
  },
  {
   "cell_type": "markdown",
   "id": "02919ef2",
   "metadata": {
    "papermill": {
     "duration": 0.001383,
     "end_time": "2024-08-04T15:27:52.379603",
     "exception": false,
     "start_time": "2024-08-04T15:27:52.378220",
     "status": "completed"
    },
    "tags": []
   },
   "source": [
    "## Détermination de la fréquence"
   ]
  },
  {
   "cell_type": "code",
   "execution_count": 3,
   "id": "1181daf3",
   "metadata": {
    "execution": {
     "iopub.execute_input": "2024-08-04T15:27:52.383257Z",
     "iopub.status.busy": "2024-08-04T15:27:52.383110Z",
     "iopub.status.idle": "2024-08-04T15:27:52.819384Z",
     "shell.execute_reply": "2024-08-04T15:27:52.818907Z"
    },
    "jupyter": {
     "source_hidden": true
    },
    "papermill": {
     "duration": 0.439795,
     "end_time": "2024-08-04T15:27:52.820803",
     "exception": false,
     "start_time": "2024-08-04T15:27:52.381008",
     "status": "completed"
    },
    "tags": []
   },
   "outputs": [
    {
     "name": "stderr",
     "output_type": "stream",
     "text": [
      "\u001b[34m2024-08-04 15:27:52.396\u001b[0m | \u001b[1mINFO    \u001b[0m | \u001b[32msrc.load_dataset\u001b[0m:\u001b[35mload_data\u001b[0m:\u001b[33m17\u001b[0m | \u001b[36mThread: MainThread\u001b[0m | \u001b[37mPID: 46901\u001b[0m - Dataset path to load /Users/massamba/Desktop/MLOps/projet_mlops/output_files/segmentation_01_analyse_step1.csv\n"
     ]
    },
    {
     "name": "stderr",
     "output_type": "stream",
     "text": [
      "\u001b[34m2024-08-04 15:27:52.792\u001b[0m | \u001b[1mINFO    \u001b[0m | \u001b[32msrc.load_dataset\u001b[0m:\u001b[35mload_data\u001b[0m:\u001b[33m27\u001b[0m | \u001b[36mThread: MainThread\u001b[0m | \u001b[37mPID: 46901\u001b[0m - Data shape: (115903, 22)\n"
     ]
    },
    {
     "name": "stdout",
     "output_type": "stream",
     "text": [
      "   Unnamed: 0                          order_id  \\\n",
      "0           0  e481f51cbdc54678b7cc49136f2d6af7   \n",
      "1           1  e481f51cbdc54678b7cc49136f2d6af7   \n",
      "2           2  e481f51cbdc54678b7cc49136f2d6af7   \n",
      "3           3  128e10d95713541c87cd1a2e48201934   \n",
      "4           4  0e7e841ddf8f8f2de2bad69267ecfbcf   \n",
      "5           5  bfc39df4f36c3693ff3b63fcbea9e90a   \n",
      "6           6  8736140c61ea584cb4250074756d8f3b   \n",
      "7           7  88407c8c6e12493ff6e845df39540112   \n",
      "8           8  4f2acff0b7d2bcc4a408abe5a223d407   \n",
      "9           9  019aaee09698daf81dcffe9d94a18b5c   \n",
      "\n",
      "                        customer_id order_status order_purchase_timestamp  \\\n",
      "0  9ef432eb6251297304e76186b10a928d    delivered      2017-10-02 10:56:33   \n",
      "1  9ef432eb6251297304e76186b10a928d    delivered      2017-10-02 10:56:33   \n",
      "2  9ef432eb6251297304e76186b10a928d    delivered      2017-10-02 10:56:33   \n",
      "3  a20e8105f23924cd00833fd87daa0831    delivered      2017-08-15 18:29:31   \n",
      "4  26c7ac168e1433912a51b924fbd34d34    delivered      2017-08-02 18:24:47   \n",
      "5  53904ddbea91e1e92b2b3f1d09a7af86    delivered      2017-10-23 23:26:46   \n",
      "6  ab8844663ae049fda8baf15fc928f47f    delivered      2017-08-10 13:35:55   \n",
      "7  e902cb9d9992a69a267f69dec57aa3a3    delivered      2017-08-15 02:03:01   \n",
      "8  d67b6cca5a87299f711a6961f579fe67    delivered      2017-08-01 16:31:35   \n",
      "9  e3893e579755de4feb1a4d0313c103fa    delivered      2017-08-10 14:04:58   \n",
      "\n",
      "   order_item_id                        product_id  \\\n",
      "0            1.0  87285b34884572647811a353c7ac498a   \n",
      "1            1.0  87285b34884572647811a353c7ac498a   \n",
      "2            1.0  87285b34884572647811a353c7ac498a   \n",
      "3            1.0  87285b34884572647811a353c7ac498a   \n",
      "4            1.0  87285b34884572647811a353c7ac498a   \n",
      "5            1.0  87285b34884572647811a353c7ac498a   \n",
      "6            1.0  b00a32a0b42fd65efb58a5822009f629   \n",
      "7            1.0  b00a32a0b42fd65efb58a5822009f629   \n",
      "8            1.0  b00a32a0b42fd65efb58a5822009f629   \n",
      "9            1.0  b00a32a0b42fd65efb58a5822009f629   \n",
      "\n",
      "                          seller_id  price  freight_value  payment_sequential  \\\n",
      "0  3504c0cb71d7fa48d967e0e4c94d59d9  29.99           8.72                 1.0   \n",
      "1  3504c0cb71d7fa48d967e0e4c94d59d9  29.99           8.72                 3.0   \n",
      "2  3504c0cb71d7fa48d967e0e4c94d59d9  29.99           8.72                 2.0   \n",
      "3  3504c0cb71d7fa48d967e0e4c94d59d9  29.99           7.78                 1.0   \n",
      "4  3504c0cb71d7fa48d967e0e4c94d59d9  29.99           7.78                 1.0   \n",
      "5  3504c0cb71d7fa48d967e0e4c94d59d9  29.99          14.10                 1.0   \n",
      "6  3504c0cb71d7fa48d967e0e4c94d59d9  75.90           7.79                 1.0   \n",
      "7  3504c0cb71d7fa48d967e0e4c94d59d9  75.90           7.79                 1.0   \n",
      "8  3504c0cb71d7fa48d967e0e4c94d59d9  75.90          14.28                 1.0   \n",
      "9  3504c0cb71d7fa48d967e0e4c94d59d9  75.90           7.79                 1.0   \n",
      "\n",
      "  payment_type  payment_installments  payment_value product_category_name  \\\n",
      "0  credit_card                   1.0          18.12            housewares   \n",
      "1      voucher                   1.0           2.00            housewares   \n",
      "2      voucher                   1.0          18.59            housewares   \n",
      "3  credit_card                   3.0          37.77            housewares   \n",
      "4  credit_card                   1.0          37.77            housewares   \n",
      "5       boleto                   1.0          44.09            housewares   \n",
      "6  credit_card                   1.0          83.69                  baby   \n",
      "7  credit_card                   2.0          83.69                  baby   \n",
      "8       boleto                   1.0          90.18                  baby   \n",
      "9  credit_card                   2.0          83.69                  baby   \n",
      "\n",
      "                 customer_unique_id  customer_zip_code_prefix  \\\n",
      "0  7c396fd4830fd04220f754e42b4e5bff                      3149   \n",
      "1  7c396fd4830fd04220f754e42b4e5bff                      3149   \n",
      "2  7c396fd4830fd04220f754e42b4e5bff                      3149   \n",
      "3  3a51803cc0d012c3b5dc8b7528cb05f7                      3366   \n",
      "4  ef0996a1a279c26e7ecbd737be23d235                      2290   \n",
      "5  e781fdcc107d13d865fc7698711cc572                     88032   \n",
      "6  02c9e0c05a817d4562ec0e8c90f29dba                      8577   \n",
      "7  28adbfbaf0b9c5e5a0555a8c853a7534                     13060   \n",
      "8  aea90564d6f09ae11bf936f55ed49d72                     82030   \n",
      "9  cd6b577df45c00daa6b2767eaa947c72                     13092   \n",
      "\n",
      "     customer_city customer_state  seller_zip_code_prefix seller_city  \\\n",
      "0        sao paulo             SP                  9350.0        maua   \n",
      "1        sao paulo             SP                  9350.0        maua   \n",
      "2        sao paulo             SP                  9350.0        maua   \n",
      "3        sao paulo             SP                  9350.0        maua   \n",
      "4        sao paulo             SP                  9350.0        maua   \n",
      "5    florianopolis             SC                  9350.0        maua   \n",
      "6  itaquaquecetuba             SP                  9350.0        maua   \n",
      "7         campinas             SP                  9350.0        maua   \n",
      "8         curitiba             PR                  9350.0        maua   \n",
      "9         campinas             SP                  9350.0        maua   \n",
      "\n",
      "  seller_state  \n",
      "0           SP  \n",
      "1           SP  \n",
      "2           SP  \n",
      "3           SP  \n",
      "4           SP  \n",
      "5           SP  \n",
      "6           SP  \n",
      "7           SP  \n",
      "8           SP  \n",
      "9           SP  \n"
     ]
    }
   ],
   "source": [
    "df = load_data(f\"{OUTPUTS_DIR}/segmentation_01_analyse_step1.csv\")\n",
    "orders = df[\"order_purchase_timestamp\"]\n",
    "orders = pd.to_datetime(orders)\n",
    "time_delta = int((orders.max() - orders.min())/np.timedelta64(1,'M'))"
   ]
  },
  {
   "cell_type": "code",
   "execution_count": 4,
   "id": "3cba7c29",
   "metadata": {
    "execution": {
     "iopub.execute_input": "2024-08-04T15:27:52.825219Z",
     "iopub.status.busy": "2024-08-04T15:27:52.825066Z",
     "iopub.status.idle": "2024-08-04T15:27:52.848207Z",
     "shell.execute_reply": "2024-08-04T15:27:52.847845Z"
    },
    "jupyter": {
     "source_hidden": true
    },
    "papermill": {
     "duration": 0.026425,
     "end_time": "2024-08-04T15:27:52.849336",
     "exception": false,
     "start_time": "2024-08-04T15:27:52.822911",
     "status": "completed"
    },
    "tags": []
   },
   "outputs": [
    {
     "name": "stdout",
     "output_type": "stream",
     "text": [
      "La période totale des commandes sur les données est de 23 mois\n"
     ]
    }
   ],
   "source": [
    "print(f\"La période totale des commandes sur les données est de {time_delta} mois\")"
   ]
  },
  {
   "cell_type": "code",
   "execution_count": 5,
   "id": "4ff54dd5",
   "metadata": {
    "execution": {
     "iopub.execute_input": "2024-08-04T15:27:52.853412Z",
     "iopub.status.busy": "2024-08-04T15:27:52.853270Z",
     "iopub.status.idle": "2024-08-04T15:27:52.866370Z",
     "shell.execute_reply": "2024-08-04T15:27:52.866073Z"
    },
    "jupyter": {
     "source_hidden": true
    },
    "papermill": {
     "duration": 0.016296,
     "end_time": "2024-08-04T15:27:52.867446",
     "exception": false,
     "start_time": "2024-08-04T15:27:52.851150",
     "status": "completed"
    },
    "tags": []
   },
   "outputs": [],
   "source": [
    "with open(f'{OUTPUTS_DIR}/olist-kmeans-current.pkl', 'rb') as file:\n",
    "    loaded_model = pickle.load(file)"
   ]
  },
  {
   "cell_type": "markdown",
   "id": "1094731e",
   "metadata": {
    "papermill": {
     "duration": 0.001506,
     "end_time": "2024-08-04T15:27:52.871829",
     "exception": false,
     "start_time": "2024-08-04T15:27:52.870323",
     "status": "completed"
    },
    "tags": []
   },
   "source": [
    "Pour déterminer le moment où les clients changent de cluster, nous allons itérer le K-Means sur toute la période avec des deltas de 2 mois et calculer le score ARI"
   ]
  },
  {
   "cell_type": "code",
   "execution_count": 6,
   "id": "aca106d3",
   "metadata": {
    "execution": {
     "iopub.execute_input": "2024-08-04T15:27:52.875631Z",
     "iopub.status.busy": "2024-08-04T15:27:52.875487Z",
     "iopub.status.idle": "2024-08-04T15:27:58.551006Z",
     "shell.execute_reply": "2024-08-04T15:27:58.550370Z"
    },
    "jupyter": {
     "source_hidden": true
    },
    "papermill": {
     "duration": 5.67974,
     "end_time": "2024-08-04T15:27:58.553081",
     "exception": false,
     "start_time": "2024-08-04T15:27:52.873341",
     "status": "completed"
    },
    "tags": []
   },
   "outputs": [
    {
     "name": "stderr",
     "output_type": "stream",
     "text": [
      "\u001b[34m2024-08-04 15:27:53.331\u001b[0m | \u001b[1mINFO    \u001b[0m | \u001b[32msrc.load_dataset\u001b[0m:\u001b[35mmake_stability_dataset\u001b[0m:\u001b[33m95\u001b[0m | \u001b[36mThread: MainThread\u001b[0m | \u001b[37mPID: 46901\u001b[0m - Data shape: (308, 8)\n"
     ]
    },
    {
     "name": "stderr",
     "output_type": "stream",
     "text": [
      "\u001b[34m2024-08-04 15:27:54.083\u001b[0m | \u001b[1mINFO    \u001b[0m | \u001b[32msrc.load_dataset\u001b[0m:\u001b[35mmake_stability_dataset\u001b[0m:\u001b[33m95\u001b[0m | \u001b[36mThread: MainThread\u001b[0m | \u001b[37mPID: 46901\u001b[0m - Data shape: (309, 8)\n"
     ]
    },
    {
     "name": "stderr",
     "output_type": "stream",
     "text": [
      "\u001b[34m2024-08-04 15:27:54.544\u001b[0m | \u001b[1mINFO    \u001b[0m | \u001b[32msrc.load_dataset\u001b[0m:\u001b[35mmake_stability_dataset\u001b[0m:\u001b[33m95\u001b[0m | \u001b[36mThread: MainThread\u001b[0m | \u001b[37mPID: 46901\u001b[0m - Data shape: (3066, 8)\n"
     ]
    },
    {
     "name": "stderr",
     "output_type": "stream",
     "text": [
      "\u001b[34m2024-08-04 15:27:55.433\u001b[0m | \u001b[1mINFO    \u001b[0m | \u001b[32msrc.load_dataset\u001b[0m:\u001b[35mmake_stability_dataset\u001b[0m:\u001b[33m95\u001b[0m | \u001b[36mThread: MainThread\u001b[0m | \u001b[37mPID: 46901\u001b[0m - Data shape: (8107, 8)\n"
     ]
    },
    {
     "name": "stderr",
     "output_type": "stream",
     "text": [
      "\u001b[34m2024-08-04 15:27:57.167\u001b[0m | \u001b[1mINFO    \u001b[0m | \u001b[32msrc.load_dataset\u001b[0m:\u001b[35mmake_stability_dataset\u001b[0m:\u001b[33m95\u001b[0m | \u001b[36mThread: MainThread\u001b[0m | \u001b[37mPID: 46901\u001b[0m - Data shape: (14833, 8)\n"
     ]
    }
   ],
   "source": [
    "ari_score = []\n",
    "for p in np.arange(2,(time_delta-12),2):\n",
    "    data_period = make_stability_dataset(f\"{OUTPUTS_DIR}/segmentation_01_analyse_step1.csv\", p)\n",
    "\n",
    "    data_period = data_period[data_period.index.isin(df.index)]\n",
    "    \n",
    "    kmeans_p = Pipeline([('scaler', StandardScaler()),\n",
    "                        ('pca', PCA(n_components=2)),\n",
    "                         (\"kmeans\", KMeans(4, random_state=PARAMS[\"SEED\"]))])\n",
    "    kmeans_p.fit(data_period)\n",
    "    p_labels = kmeans_p.named_steps['kmeans'].labels_\n",
    "\n",
    "    ari_p = adjusted_rand_score(loaded_model.predict(data_period), p_labels)\n",
    "    ari_score.append([p,ari_p])"
   ]
  },
  {
   "cell_type": "code",
   "execution_count": 7,
   "id": "e0190334",
   "metadata": {
    "execution": {
     "iopub.execute_input": "2024-08-04T15:27:58.560891Z",
     "iopub.status.busy": "2024-08-04T15:27:58.560666Z",
     "iopub.status.idle": "2024-08-04T15:27:58.775914Z",
     "shell.execute_reply": "2024-08-04T15:27:58.774249Z"
    },
    "jupyter": {
     "source_hidden": true
    },
    "papermill": {
     "duration": 0.222117,
     "end_time": "2024-08-04T15:27:58.778871",
     "exception": false,
     "start_time": "2024-08-04T15:27:58.556754",
     "status": "completed"
    },
    "tags": []
   },
   "outputs": [
    {
     "data": {
      "image/png": "[encoded data removed]",
      "text/plain": [
       "<Figure size 1200x800 with 1 Axes>"
      ]
     },
     "metadata": {},
     "output_type": "display_data"
    }
   ],
   "source": [
    "ari_score = pd.DataFrame(ari_score, columns=[\"periode\", \"ARI\"])\n",
    "\n",
    "fig = plt.figure(figsize=(12,8))\n",
    "sns.lineplot(data=ari_score, x=\"periode\", y=\"ARI\")\n",
    "plt.xlabel(\"Période\")\n",
    "plt.ylabel(\"Score ARI\")\n",
    "plt.title(\"Stabilité temporelle de la segmentation par K-Means\",\n",
    "          fontsize=18,\n",
    "          color=\"b\")\n",
    "plt.show()"
   ]
  },
  {
   "cell_type": "markdown",
   "id": "bc63d8c6",
   "metadata": {
    "papermill": {
     "duration": 0.002096,
     "end_time": "2024-08-04T15:27:58.784396",
     "exception": false,
     "start_time": "2024-08-04T15:27:58.782300",
     "status": "completed"
    },
    "tags": []
   },
   "source": [
    "Sur ce plot des scores ARI obtenus sur les itérations par période, on remarque un pic de performance à la période 8, suivi d'une forte baisse.</br>\n",
    "Il faudra donc prévoir la maintenance du programme de segmentation tous les 8 mois dans un premier temps puis re-tester cette stabilité temporelle au fil du temps afin de l'affiner. Il sera donc nécessaire de redéfinir les segments clients à chaque maintenance.</br>\n",
    "Cette approche permettra de capturer le moment optimal de performance du modèle, juste avant sa dégradation significative, assurant ainsi une segmentation client toujours pertinente et efficace.</br>"
   ]
  }
 ],
 "metadata": {
  "kernelspec": {
   "display_name": "Python 3",
   "language": "python",
   "name": "python3"
  },
  "language_info": {
   "codemirror_mode": {
    "name": "ipython",
    "version": 3
   },
   "file_extension": ".py",
   "mimetype": "text/x-python",
   "name": "python",
   "nbconvert_exporter": "python",
   "pygments_lexer": "ipython3",
   "version": "3.8.19"
  },
  "papermill": {
   "default_parameters": {},
   "duration": 9.011497,
   "end_time": "2024-08-04T15:27:59.208611",
   "environment_variables": {},
   "exception": null,
   "input_path": "segmentation_03_stabilite.ipynb",
   "output_path": "/Users/massamba/Desktop/MLOps/projet_mlops/logs/2024/08/stability/20240804-1518-olist-stability-artifcat.ipynb",
   "parameters": {},
   "start_time": "2024-08-04T15:27:50.197114",
   "version": "2.6.0"
  }
 },
 "nbformat": 4,
 "nbformat_minor": 5
}