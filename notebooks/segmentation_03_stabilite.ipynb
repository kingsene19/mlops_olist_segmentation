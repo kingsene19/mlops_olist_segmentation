{
 "cells": [
  {
   "cell_type": "markdown",
   "metadata": {},
   "source": [
    "# Projet MLOps: Segmentation des clients Olist"
   ]
  },
  {
   "cell_type": "markdown",
   "metadata": {},
   "source": [
    "## Notebook 2: Stabilité temporelle\n",
    "\n",
    "Dans les précédents notebooks nous avons eu à effectuer l'analyse exploratoire ainsi qu'à entrainé nos modèles sur les données afin d'avoir une segmentation des clients.</br>\n",
    "Cependant la segmentation des clients basée sur le clustering est un processus dynamique plutôt que statique. À mesure que les clients évoluent au fil du temps, leurs préférences et leurs comportements changent, ce qui peut entraîner des modifications des clusters définis par le modèle. Pour maintenir l'exactitude et la pertinence, il est crucial de déterminer une fréquence appropriée pour mettre à jour ces modèles, afin de garantir qu'ils reflètent les caractéristiques actuelles des clients et les conditions du marché.\n",
    "\n",
    "<img src=\"../images/change.jpeg\" alt=\"dataset_configuration\" width=\"1200\"/>"
   ]
  },
  {
   "cell_type": "markdown",
   "metadata": {},
   "source": [
    "## Import des bibliothèques"
   ]
  },
  {
   "cell_type": "code",
   "execution_count": 1,
   "metadata": {},
   "outputs": [],
   "source": [
    "%reload_ext autoreload\n",
    "%autoreload 2\n",
    "%matplotlib inline\n",
    "import pendulum\n",
    "import pandas as pd\n",
    "import numpy as np\n",
    "import matplotlib.pyplot as plt\n",
    "import seaborn as sns\n",
    "import sys\n",
    "import warnings\n",
    "import pickle\n",
    "\n",
    "from sklearn.cluster import KMeans\n",
    "from sklearn.pipeline import Pipeline\n",
    "from sklearn.preprocessing import StandardScaler\n",
    "from sklearn.decomposition import PCA\n",
    "from pathlib import Path\n",
    "from loguru import logger\n",
    "from sklearn.metrics import adjusted_rand_score\n",
    "\n",
    "sys.path.append(str(Path.cwd().parent))\n",
    "from settings.params import PARAMS\n",
    "from src.load_dataset import load_data, make_stability_dataset\n",
    "\n",
    "pd.set_option(\"display.max_columns\", None)\n",
    "pd.set_option(\"display.max_rows\", 25)\n",
    "warnings.filterwarnings(\"ignore\")"
   ]
  },
  {
   "cell_type": "code",
   "execution_count": 2,
   "metadata": {},
   "outputs": [
    {
     "name": "stderr",
     "output_type": "stream",
     "text": [
      "\u001b[34m2024-08-09 18:54:12.553\u001b[0m | \u001b[1mINFO    \u001b[0m | \u001b[32m__main__\u001b[0m:\u001b[35m<module>\u001b[0m:\u001b[33m18\u001b[0m | \u001b[36mThread: MainThread\u001b[0m | \u001b[37mPID: 66752\u001b[0m - Project directory: /Users/massamba/Desktop/MLOps/projet_mlops,  Outputs directory: /Users/massamba/Desktop/MLOps/projet_mlops/output_files\n"
     ]
    }
   ],
   "source": [
    "# Set logging format\n",
    "log_fmt = (\n",
    "    \"<blue>{time:YYYY-MM-DD HH:mm:ss.SSS!UTC}</blue> | \"\n",
    "    \"<level>{level: <8}</level> | \"\n",
    "    \"<green>{name}</green>:<magenta>{function}</magenta>:<yellow>{line}</yellow> | \"\n",
    "    \"<cyan>Thread: {thread.name}</cyan> | \"\n",
    "    \"<white>PID: {process}</white> - {message}\"\n",
    ")\n",
    "logger.configure(handlers=[{'sink': sys.stderr, 'format': log_fmt}])\n",
    "\n",
    "# Current date\n",
    "CURRENT_DATE = pendulum.now(tz=\"UTC\")\n",
    "\n",
    "# Directories\n",
    "PROJECT_DIR = Path.cwd().parent\n",
    "OUTPUTS_DIR = Path(PROJECT_DIR, \"output_files\")\n",
    "\n",
    "logger.info(f\"Project directory: {PROJECT_DIR},  Outputs directory: {OUTPUTS_DIR}\")"
   ]
  },
  {
   "cell_type": "markdown",
   "metadata": {},
   "source": [
    "## Détermination de la fréquence"
   ]
  },
  {
   "cell_type": "code",
   "execution_count": 3,
   "metadata": {},
   "outputs": [
    {
     "name": "stderr",
     "output_type": "stream",
     "text": [
      "\u001b[34m2024-08-09 18:54:12.576\u001b[0m | \u001b[1mINFO    \u001b[0m | \u001b[32msrc.load_dataset\u001b[0m:\u001b[35mload_data\u001b[0m:\u001b[33m17\u001b[0m | \u001b[36mThread: MainThread\u001b[0m | \u001b[37mPID: 66752\u001b[0m - Dataset path to load /Users/massamba/Desktop/MLOps/projet_mlops/output_files/segmentation_01_analyse_step1.csv\n",
      "\u001b[34m2024-08-09 18:54:13.002\u001b[0m | \u001b[1mINFO    \u001b[0m | \u001b[32msrc.load_dataset\u001b[0m:\u001b[35mload_data\u001b[0m:\u001b[33m27\u001b[0m | \u001b[36mThread: MainThread\u001b[0m | \u001b[37mPID: 66752\u001b[0m - Data shape: (115903, 22)\n"
     ]
    },
    {
     "name": "stdout",
     "output_type": "stream",
     "text": [
      "   Unnamed: 0                          order_id  \\\n",
      "0           0  e481f51cbdc54678b7cc49136f2d6af7   \n",
      "1           1  e481f51cbdc54678b7cc49136f2d6af7   \n",
      "2           2  e481f51cbdc54678b7cc49136f2d6af7   \n",
      "3           3  128e10d95713541c87cd1a2e48201934   \n",
      "4           4  0e7e841ddf8f8f2de2bad69267ecfbcf   \n",
      "5           5  bfc39df4f36c3693ff3b63fcbea9e90a   \n",
      "6           6  8736140c61ea584cb4250074756d8f3b   \n",
      "7           7  88407c8c6e12493ff6e845df39540112   \n",
      "8           8  4f2acff0b7d2bcc4a408abe5a223d407   \n",
      "9           9  019aaee09698daf81dcffe9d94a18b5c   \n",
      "\n",
      "                        customer_id order_status order_purchase_timestamp  \\\n",
      "0  9ef432eb6251297304e76186b10a928d    delivered      2017-10-02 10:56:33   \n",
      "1  9ef432eb6251297304e76186b10a928d    delivered      2017-10-02 10:56:33   \n",
      "2  9ef432eb6251297304e76186b10a928d    delivered      2017-10-02 10:56:33   \n",
      "3  a20e8105f23924cd00833fd87daa0831    delivered      2017-08-15 18:29:31   \n",
      "4  26c7ac168e1433912a51b924fbd34d34    delivered      2017-08-02 18:24:47   \n",
      "5  53904ddbea91e1e92b2b3f1d09a7af86    delivered      2017-10-23 23:26:46   \n",
      "6  ab8844663ae049fda8baf15fc928f47f    delivered      2017-08-10 13:35:55   \n",
      "7  e902cb9d9992a69a267f69dec57aa3a3    delivered      2017-08-15 02:03:01   \n",
      "8  d67b6cca5a87299f711a6961f579fe67    delivered      2017-08-01 16:31:35   \n",
      "9  e3893e579755de4feb1a4d0313c103fa    delivered      2017-08-10 14:04:58   \n",
      "\n",
      "   order_item_id                        product_id  \\\n",
      "0            1.0  87285b34884572647811a353c7ac498a   \n",
      "1            1.0  87285b34884572647811a353c7ac498a   \n",
      "2            1.0  87285b34884572647811a353c7ac498a   \n",
      "3            1.0  87285b34884572647811a353c7ac498a   \n",
      "4            1.0  87285b34884572647811a353c7ac498a   \n",
      "5            1.0  87285b34884572647811a353c7ac498a   \n",
      "6            1.0  b00a32a0b42fd65efb58a5822009f629   \n",
      "7            1.0  b00a32a0b42fd65efb58a5822009f629   \n",
      "8            1.0  b00a32a0b42fd65efb58a5822009f629   \n",
      "9            1.0  b00a32a0b42fd65efb58a5822009f629   \n",
      "\n",
      "                          seller_id  price  freight_value  payment_sequential  \\\n",
      "0  3504c0cb71d7fa48d967e0e4c94d59d9  29.99           8.72                 1.0   \n",
      "1  3504c0cb71d7fa48d967e0e4c94d59d9  29.99           8.72                 3.0   \n",
      "2  3504c0cb71d7fa48d967e0e4c94d59d9  29.99           8.72                 2.0   \n",
      "3  3504c0cb71d7fa48d967e0e4c94d59d9  29.99           7.78                 1.0   \n",
      "4  3504c0cb71d7fa48d967e0e4c94d59d9  29.99           7.78                 1.0   \n",
      "5  3504c0cb71d7fa48d967e0e4c94d59d9  29.99          14.10                 1.0   \n",
      "6  3504c0cb71d7fa48d967e0e4c94d59d9  75.90           7.79                 1.0   \n",
      "7  3504c0cb71d7fa48d967e0e4c94d59d9  75.90           7.79                 1.0   \n",
      "8  3504c0cb71d7fa48d967e0e4c94d59d9  75.90          14.28                 1.0   \n",
      "9  3504c0cb71d7fa48d967e0e4c94d59d9  75.90           7.79                 1.0   \n",
      "\n",
      "  payment_type  payment_installments  payment_value product_category_name  \\\n",
      "0  credit_card                   1.0          18.12            housewares   \n",
      "1      voucher                   1.0           2.00            housewares   \n",
      "2      voucher                   1.0          18.59            housewares   \n",
      "3  credit_card                   3.0          37.77            housewares   \n",
      "4  credit_card                   1.0          37.77            housewares   \n",
      "5       boleto                   1.0          44.09            housewares   \n",
      "6  credit_card                   1.0          83.69                  baby   \n",
      "7  credit_card                   2.0          83.69                  baby   \n",
      "8       boleto                   1.0          90.18                  baby   \n",
      "9  credit_card                   2.0          83.69                  baby   \n",
      "\n",
      "                 customer_unique_id  customer_zip_code_prefix  \\\n",
      "0  7c396fd4830fd04220f754e42b4e5bff                      3149   \n",
      "1  7c396fd4830fd04220f754e42b4e5bff                      3149   \n",
      "2  7c396fd4830fd04220f754e42b4e5bff                      3149   \n",
      "3  3a51803cc0d012c3b5dc8b7528cb05f7                      3366   \n",
      "4  ef0996a1a279c26e7ecbd737be23d235                      2290   \n",
      "5  e781fdcc107d13d865fc7698711cc572                     88032   \n",
      "6  02c9e0c05a817d4562ec0e8c90f29dba                      8577   \n",
      "7  28adbfbaf0b9c5e5a0555a8c853a7534                     13060   \n",
      "8  aea90564d6f09ae11bf936f55ed49d72                     82030   \n",
      "9  cd6b577df45c00daa6b2767eaa947c72                     13092   \n",
      "\n",
      "     customer_city customer_state  seller_zip_code_prefix seller_city  \\\n",
      "0        sao paulo             SP                  9350.0        maua   \n",
      "1        sao paulo             SP                  9350.0        maua   \n",
      "2        sao paulo             SP                  9350.0        maua   \n",
      "3        sao paulo             SP                  9350.0        maua   \n",
      "4        sao paulo             SP                  9350.0        maua   \n",
      "5    florianopolis             SC                  9350.0        maua   \n",
      "6  itaquaquecetuba             SP                  9350.0        maua   \n",
      "7         campinas             SP                  9350.0        maua   \n",
      "8         curitiba             PR                  9350.0        maua   \n",
      "9         campinas             SP                  9350.0        maua   \n",
      "\n",
      "  seller_state  \n",
      "0           SP  \n",
      "1           SP  \n",
      "2           SP  \n",
      "3           SP  \n",
      "4           SP  \n",
      "5           SP  \n",
      "6           SP  \n",
      "7           SP  \n",
      "8           SP  \n",
      "9           SP  \n"
     ]
    }
   ],
   "source": [
    "df = load_data(f\"{OUTPUTS_DIR}/segmentation_01_analyse_step1.csv\")\n",
    "orders = df[\"order_purchase_timestamp\"]\n",
    "orders = pd.to_datetime(orders)\n",
    "time_delta = int((orders.max() - orders.min())/np.timedelta64(1,'M'))"
   ]
  },
  {
   "cell_type": "code",
   "execution_count": 4,
   "metadata": {},
   "outputs": [
    {
     "name": "stdout",
     "output_type": "stream",
     "text": [
      "La période totale des commandes sur les données est de 23 mois\n"
     ]
    }
   ],
   "source": [
    "print(f\"La période totale des commandes sur les données est de {time_delta} mois\")"
   ]
  },
  {
   "cell_type": "markdown",
   "metadata": {},
   "source": [
    "### Intialisation\n",
    "\n",
    "Pour déterminer la stabilité nous nous positionnons initialement sur la période 12 donc 1 an après le début du jeu de données afin de créer notre jeu de données initial"
   ]
  },
  {
   "cell_type": "code",
   "execution_count": 8,
   "metadata": {},
   "outputs": [
    {
     "name": "stderr",
     "output_type": "stream",
     "text": [
      "\u001b[34m2024-08-09 18:55:03.795\u001b[0m | \u001b[1mINFO    \u001b[0m | \u001b[32msrc.load_dataset\u001b[0m:\u001b[35mmake_stability_dataset\u001b[0m:\u001b[33m146\u001b[0m | \u001b[36mThread: MainThread\u001b[0m | \u001b[37mPID: 66752\u001b[0m - Data shape: (22438, 8)\n"
     ]
    },
    {
     "data": {
      "text/html": [
       "<style>#sk-container-id-1 {color: black;}#sk-container-id-1 pre{padding: 0;}#sk-container-id-1 div.sk-toggleable {background-color: white;}#sk-container-id-1 label.sk-toggleable__label {cursor: pointer;display: block;width: 100%;margin-bottom: 0;padding: 0.3em;box-sizing: border-box;text-align: center;}#sk-container-id-1 label.sk-toggleable__label-arrow:before {content: \"▸\";float: left;margin-right: 0.25em;color: #696969;}#sk-container-id-1 label.sk-toggleable__label-arrow:hover:before {color: black;}#sk-container-id-1 div.sk-estimator:hover label.sk-toggleable__label-arrow:before {color: black;}#sk-container-id-1 div.sk-toggleable__content {max-height: 0;max-width: 0;overflow: hidden;text-align: left;background-color: #f0f8ff;}#sk-container-id-1 div.sk-toggleable__content pre {margin: 0.2em;color: black;border-radius: 0.25em;background-color: #f0f8ff;}#sk-container-id-1 input.sk-toggleable__control:checked~div.sk-toggleable__content {max-height: 200px;max-width: 100%;overflow: auto;}#sk-container-id-1 input.sk-toggleable__control:checked~label.sk-toggleable__label-arrow:before {content: \"▾\";}#sk-container-id-1 div.sk-estimator input.sk-toggleable__control:checked~label.sk-toggleable__label {background-color: #d4ebff;}#sk-container-id-1 div.sk-label input.sk-toggleable__control:checked~label.sk-toggleable__label {background-color: #d4ebff;}#sk-container-id-1 input.sk-hidden--visually {border: 0;clip: rect(1px 1px 1px 1px);clip: rect(1px, 1px, 1px, 1px);height: 1px;margin: -1px;overflow: hidden;padding: 0;position: absolute;width: 1px;}#sk-container-id-1 div.sk-estimator {font-family: monospace;background-color: #f0f8ff;border: 1px dotted black;border-radius: 0.25em;box-sizing: border-box;margin-bottom: 0.5em;}#sk-container-id-1 div.sk-estimator:hover {background-color: #d4ebff;}#sk-container-id-1 div.sk-parallel-item::after {content: \"\";width: 100%;border-bottom: 1px solid gray;flex-grow: 1;}#sk-container-id-1 div.sk-label:hover label.sk-toggleable__label {background-color: #d4ebff;}#sk-container-id-1 div.sk-serial::before {content: \"\";position: absolute;border-left: 1px solid gray;box-sizing: border-box;top: 0;bottom: 0;left: 50%;z-index: 0;}#sk-container-id-1 div.sk-serial {display: flex;flex-direction: column;align-items: center;background-color: white;padding-right: 0.2em;padding-left: 0.2em;position: relative;}#sk-container-id-1 div.sk-item {position: relative;z-index: 1;}#sk-container-id-1 div.sk-parallel {display: flex;align-items: stretch;justify-content: center;background-color: white;position: relative;}#sk-container-id-1 div.sk-item::before, #sk-container-id-1 div.sk-parallel-item::before {content: \"\";position: absolute;border-left: 1px solid gray;box-sizing: border-box;top: 0;bottom: 0;left: 50%;z-index: -1;}#sk-container-id-1 div.sk-parallel-item {display: flex;flex-direction: column;z-index: 1;position: relative;background-color: white;}#sk-container-id-1 div.sk-parallel-item:first-child::after {align-self: flex-end;width: 50%;}#sk-container-id-1 div.sk-parallel-item:last-child::after {align-self: flex-start;width: 50%;}#sk-container-id-1 div.sk-parallel-item:only-child::after {width: 0;}#sk-container-id-1 div.sk-dashed-wrapped {border: 1px dashed gray;margin: 0 0.4em 0.5em 0.4em;box-sizing: border-box;padding-bottom: 0.4em;background-color: white;}#sk-container-id-1 div.sk-label label {font-family: monospace;font-weight: bold;display: inline-block;line-height: 1.2em;}#sk-container-id-1 div.sk-label-container {text-align: center;}#sk-container-id-1 div.sk-container {/* jupyter's `normalize.less` sets `[hidden] { display: none; }` but bootstrap.min.css set `[hidden] { display: none !important; }` so we also need the `!important` here to be able to override the default hidden behavior on the sphinx rendered scikit-learn.org. See: https://github.com/scikit-learn/scikit-learn/issues/21755 */display: inline-block !important;position: relative;}#sk-container-id-1 div.sk-text-repr-fallback {display: none;}</style><div id=\"sk-container-id-1\" class=\"sk-top-container\"><div class=\"sk-text-repr-fallback\"><pre>Pipeline(steps=[(&#x27;scaler&#x27;, StandardScaler()), (&#x27;pca&#x27;, PCA(n_components=0.95)),\n",
       "                (&#x27;kmeans&#x27;, KMeans(n_clusters=5, random_state=42))])</pre><b>In a Jupyter environment, please rerun this cell to show the HTML representation or trust the notebook. <br />On GitHub, the HTML representation is unable to render, please try loading this page with nbviewer.org.</b></div><div class=\"sk-container\" hidden><div class=\"sk-item sk-dashed-wrapped\"><div class=\"sk-label-container\"><div class=\"sk-label sk-toggleable\"><input class=\"sk-toggleable__control sk-hidden--visually\" id=\"sk-estimator-id-1\" type=\"checkbox\" ><label for=\"sk-estimator-id-1\" class=\"sk-toggleable__label sk-toggleable__label-arrow\">Pipeline</label><div class=\"sk-toggleable__content\"><pre>Pipeline(steps=[(&#x27;scaler&#x27;, StandardScaler()), (&#x27;pca&#x27;, PCA(n_components=0.95)),\n",
       "                (&#x27;kmeans&#x27;, KMeans(n_clusters=5, random_state=42))])</pre></div></div></div><div class=\"sk-serial\"><div class=\"sk-item\"><div class=\"sk-estimator sk-toggleable\"><input class=\"sk-toggleable__control sk-hidden--visually\" id=\"sk-estimator-id-2\" type=\"checkbox\" ><label for=\"sk-estimator-id-2\" class=\"sk-toggleable__label sk-toggleable__label-arrow\">StandardScaler</label><div class=\"sk-toggleable__content\"><pre>StandardScaler()</pre></div></div></div><div class=\"sk-item\"><div class=\"sk-estimator sk-toggleable\"><input class=\"sk-toggleable__control sk-hidden--visually\" id=\"sk-estimator-id-3\" type=\"checkbox\" ><label for=\"sk-estimator-id-3\" class=\"sk-toggleable__label sk-toggleable__label-arrow\">PCA</label><div class=\"sk-toggleable__content\"><pre>PCA(n_components=0.95)</pre></div></div></div><div class=\"sk-item\"><div class=\"sk-estimator sk-toggleable\"><input class=\"sk-toggleable__control sk-hidden--visually\" id=\"sk-estimator-id-4\" type=\"checkbox\" ><label for=\"sk-estimator-id-4\" class=\"sk-toggleable__label sk-toggleable__label-arrow\">KMeans</label><div class=\"sk-toggleable__content\"><pre>KMeans(n_clusters=5, random_state=42)</pre></div></div></div></div></div></div></div>"
      ],
      "text/plain": [
       "Pipeline(steps=[('scaler', StandardScaler()), ('pca', PCA(n_components=0.95)),\n",
       "                ('kmeans', KMeans(n_clusters=5, random_state=42))])"
      ]
     },
     "execution_count": 8,
     "metadata": {},
     "output_type": "execute_result"
    }
   ],
   "source": [
    "initial_data = make_stability_dataset(f\"{OUTPUTS_DIR}/segmentation_01_analyse_step1.csv\", 12)\n",
    "data_period = initial_data[initial_data.index.isin(df.index)]\n",
    "\n",
    "inital_model = Pipeline([('scaler', StandardScaler()),\n",
    "                        ('pca', PCA(n_components=0.95)),\n",
    "                         (\"kmeans\", KMeans(5, random_state=PARAMS[\"SEED\"]))])\n",
    "inital_model.fit(initial_data)"
   ]
  },
  {
   "cell_type": "markdown",
   "metadata": {},
   "source": [
    "Pour déterminer le moment où les clients changent de cluster, nous allons itérer le K-Means sur toute les périodes suviantes avec des deltas de 2 mois et calculer le score ARI"
   ]
  },
  {
   "cell_type": "code",
   "execution_count": 9,
   "metadata": {},
   "outputs": [
    {
     "name": "stderr",
     "output_type": "stream",
     "text": [
      "\u001b[34m2024-08-09 18:55:05.822\u001b[0m | \u001b[1mINFO    \u001b[0m | \u001b[32msrc.load_dataset\u001b[0m:\u001b[35mmake_stability_dataset\u001b[0m:\u001b[33m146\u001b[0m | \u001b[36mThread: MainThread\u001b[0m | \u001b[37mPID: 66752\u001b[0m - Data shape: (30790, 8)\n",
      "\u001b[34m2024-08-09 18:55:07.692\u001b[0m | \u001b[1mINFO    \u001b[0m | \u001b[32msrc.load_dataset\u001b[0m:\u001b[35mmake_stability_dataset\u001b[0m:\u001b[33m146\u001b[0m | \u001b[36mThread: MainThread\u001b[0m | \u001b[37mPID: 66752\u001b[0m - Data shape: (43440, 8)\n",
      "\u001b[34m2024-08-09 18:55:10.260\u001b[0m | \u001b[1mINFO    \u001b[0m | \u001b[32msrc.load_dataset\u001b[0m:\u001b[35mmake_stability_dataset\u001b[0m:\u001b[33m146\u001b[0m | \u001b[36mThread: MainThread\u001b[0m | \u001b[37mPID: 66752\u001b[0m - Data shape: (56796, 8)\n",
      "\u001b[34m2024-08-09 18:55:12.788\u001b[0m | \u001b[1mINFO    \u001b[0m | \u001b[32msrc.load_dataset\u001b[0m:\u001b[35mmake_stability_dataset\u001b[0m:\u001b[33m146\u001b[0m | \u001b[36mThread: MainThread\u001b[0m | \u001b[37mPID: 66752\u001b[0m - Data shape: (70427, 8)\n",
      "\u001b[34m2024-08-09 18:55:15.530\u001b[0m | \u001b[1mINFO    \u001b[0m | \u001b[32msrc.load_dataset\u001b[0m:\u001b[35mmake_stability_dataset\u001b[0m:\u001b[33m146\u001b[0m | \u001b[36mThread: MainThread\u001b[0m | \u001b[37mPID: 66752\u001b[0m - Data shape: (82642, 8)\n"
     ]
    }
   ],
   "source": [
    "ari_score = []\n",
    "for p in np.arange(14, 23 ,2):\n",
    "    data_period = make_stability_dataset(f\"{OUTPUTS_DIR}/segmentation_01_analyse_step1.csv\", p)\n",
    "    data_period = data_period[data_period.index.isin(initial_data.index)]\n",
    "    \n",
    "    kmeans_p = Pipeline([('scaler', StandardScaler()),\n",
    "                        ('pca', PCA(n_components=0.95)),\n",
    "                         (\"kmeans\", KMeans(5, random_state=PARAMS[\"SEED\"]))])\n",
    "    kmeans_p.fit(data_period)\n",
    "    p_labels = kmeans_p.named_steps['kmeans'].labels_\n",
    "\n",
    "    ari_p = adjusted_rand_score(inital_model.predict(data_period), p_labels)\n",
    "    ari_score.append([p-12,ari_p])"
   ]
  },
  {
   "cell_type": "code",
   "execution_count": 10,
   "metadata": {},
   "outputs": [
    {
     "data": {
      "image/png": "[encoded data removed]",
      "text/plain": [
       "<Figure size 1200x800 with 1 Axes>"
      ]
     },
     "metadata": {},
     "output_type": "display_data"
    }
   ],
   "source": [
    "ari_score = pd.DataFrame(ari_score, columns=[\"periode\", \"ARI\"])\n",
    "\n",
    "fig = plt.figure(figsize=(12,8))\n",
    "sns.lineplot(data=ari_score, x=\"periode\", y=\"ARI\")\n",
    "plt.xlabel(\"Période\")\n",
    "plt.ylabel(\"Score ARI\")\n",
    "plt.title(\"Stabilité temporelle de la segmentation par K-Means\",\n",
    "          fontsize=18,\n",
    "          color=\"b\")\n",
    "plt.show()"
   ]
  },
  {
   "cell_type": "code",
   "execution_count": 11,
   "metadata": {},
   "outputs": [
    {
     "name": "stdout",
     "output_type": "stream",
     "text": [
      "   periode       ARI\n",
      "0        2  0.771451\n",
      "1        4  0.629505\n",
      "2        6  0.540068\n",
      "3        8  0.285906\n",
      "4       10  0.287463\n"
     ]
    }
   ],
   "source": [
    "print(ari_score)"
   ]
  },
  {
   "cell_type": "markdown",
   "metadata": {},
   "source": [
    "Nous constatons que la cohérence entre les clusters est très basse dès la première période avec 0.77 et décroit rapidement sur les périodes suivantes et donc par conséquence il est nécessaire de mettre à jour le modèle chaque 2 mois."
   ]
  }
 ],
 "metadata": {
  "kernelspec": {
   "display_name": "Python 3",
   "language": "python",
   "name": "python3"
  },
  "language_info": {
   "codemirror_mode": {
    "name": "ipython",
    "version": 3
   },
   "file_extension": ".py",
   "mimetype": "text/x-python",
   "name": "python",
   "nbconvert_exporter": "python",
   "pygments_lexer": "ipython3",
   "version": "3.8.19"
  }
 },
 "nbformat": 4,
 "nbformat_minor": 2
}
