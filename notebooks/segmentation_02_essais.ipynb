{
 "cells": [
  {
   "cell_type": "markdown",
   "metadata": {},
   "source": [
    "# Projet MLOps: Segmentation des clients Olist"
   ]
  },
  {
   "cell_type": "markdown",
   "metadata": {},
   "source": [
    "## Notebook 2: Modèles\n",
    "\n",
    "Dans le premier notebook nous avons eu à effectuer l'analyse exploratoire des données ainsi que le feature engineering afin de créer un jeu de données que nous pourrons utiliser pour faire notre segmentation.</br> Dans ce notebook nous allons donc procéder à la segmentation des clients</br>\n",
    "\n",
    "En utilisant les résultats de cette segmentatiom, l'équipe marketing d'Olist pourra maximiser l'efficacité de ses campagnes et améliorer l'engagement et la satisfaction des clients.\n",
    "\n",
    "<img src=\"https://media.licdn.com/dms/image/D5612AQEbR-vj1LqUFw/article-cover_image-shrink_600_2000/0/1693362637757?e=2147483647&v=beta&t=yD-EP9-YR-_gitRaxxiAGd5jzvvlnrjyzuSgVfXYDQY\" alt=\"dataset_configuration\" width=\"1200\"/>"
   ]
  },
  {
   "cell_type": "markdown",
   "metadata": {},
   "source": [
    "## Import des bibliothèques"
   ]
  },
  {
   "cell_type": "code",
   "execution_count": 1,
   "metadata": {},
   "outputs": [],
   "source": [
    "%reload_ext autoreload\n",
    "%autoreload 2\n",
    "%matplotlib inline\n",
    "\n",
    "from pathlib import Path\n",
    "import sys\n",
    "import warnings\n",
    "import mlflow\n",
    "import pandas as pd\n",
    "import numpy as np\n",
    "import pendulum\n",
    "import matplotlib.pyplot as plt\n",
    "import seaborn as sns\n",
    "\n",
    "from mlflow.tracking import MlflowClient\n",
    "from loguru import logger\n",
    "from sklearn.pipeline import Pipeline\n",
    "from sklearn.preprocessing import StandardScaler\n",
    "from sklearn.decomposition import PCA\n",
    "from sklearn.cluster import DBSCAN, KMeans\n",
    "from sklearn.mixture import GaussianMixture\n",
    "from mlflow.models.signature import infer_signature\n",
    "from sklearn.metrics import silhouette_score, calinski_harabasz_score, davies_bouldin_score\n",
    "from yellowbrick.cluster import KElbowVisualizer, InterclusterDistance\n",
    "from sklearn.neighbors import NearestNeighbors\n",
    "from kneed import KneeLocator\n",
    "import pickle\n",
    "\n",
    "sys.path.append(str(Path.cwd().parent))\n",
    "from settings.params import PARAMS\n",
    "from src.load_dataset import load_data\n",
    "\n",
    "pd.set_option(\"display.max_columns\", None)\n",
    "pd.set_option(\"display.max_rows\", 25)\n",
    "warnings.filterwarnings(\"ignore\")"
   ]
  },
  {
   "cell_type": "code",
   "execution_count": 2,
   "metadata": {},
   "outputs": [
    {
     "name": "stderr",
     "output_type": "stream",
     "text": [
      "\u001b[34m2024-08-09 16:14:44.211\u001b[0m | \u001b[1mINFO    \u001b[0m | \u001b[32m__main__\u001b[0m:\u001b[35m<module>\u001b[0m:\u001b[33m19\u001b[0m | \u001b[36mThread: MainThread\u001b[0m | \u001b[37mPID: 49869\u001b[0m - Project directory: /Users/massamba/Desktop/MLOps/projet_mlops, Outputs directory: /Users/massamba/Desktop/MLOps/projet_mlops/output_files, API directory: /Users/massamba/Desktop/MLOps/projet_mlops/API\n"
     ]
    }
   ],
   "source": [
    "# Set logging format\n",
    "log_fmt = (\n",
    "    \"<blue>{time:YYYY-MM-DD HH:mm:ss.SSS!UTC}</blue> | \"\n",
    "    \"<level>{level: <8}</level> | \"\n",
    "    \"<green>{name}</green>:<magenta>{function}</magenta>:<yellow>{line}</yellow> | \"\n",
    "    \"<cyan>Thread: {thread.name}</cyan> | \"\n",
    "    \"<white>PID: {process}</white> - {message}\"\n",
    ")\n",
    "logger.configure(handlers=[{'sink': sys.stderr, 'format': log_fmt}])\n",
    "\n",
    "# Current date\n",
    "CURRENT_DATE = pendulum.now(tz=\"UTC\")\n",
    "\n",
    "# Directories\n",
    "PROJECT_DIR = Path.cwd().parent\n",
    "OUTPUTS_DIR = Path(PROJECT_DIR, \"output_files\")\n",
    "API_DIR = Path(PROJECT_DIR, \"API\")\n",
    "\n",
    "logger.info(f\"Project directory: {PROJECT_DIR}, Outputs directory: {OUTPUTS_DIR}, API directory: {API_DIR}\")"
   ]
  },
  {
   "cell_type": "markdown",
   "metadata": {},
   "source": [
    "## Entrainement et Tracking"
   ]
  },
  {
   "cell_type": "code",
   "execution_count": 3,
   "metadata": {},
   "outputs": [
    {
     "name": "stderr",
     "output_type": "stream",
     "text": [
      "\u001b[34m2024-08-09 16:14:44.233\u001b[0m | \u001b[1mINFO    \u001b[0m | \u001b[32msrc.load_dataset\u001b[0m:\u001b[35mload_data\u001b[0m:\u001b[33m17\u001b[0m | \u001b[36mThread: MainThread\u001b[0m | \u001b[37mPID: 49869\u001b[0m - Dataset path to load /Users/massamba/Desktop/MLOps/projet_mlops/output_files/segmentation_01_analyse_rfm_dataset.csv\n",
      "\u001b[34m2024-08-09 16:14:44.327\u001b[0m | \u001b[1mINFO    \u001b[0m | \u001b[32msrc.load_dataset\u001b[0m:\u001b[35mload_data\u001b[0m:\u001b[33m27\u001b[0m | \u001b[36mThread: MainThread\u001b[0m | \u001b[37mPID: 49869\u001b[0m - Data shape: (93811, 9)\n"
     ]
    },
    {
     "name": "stdout",
     "output_type": "stream",
     "text": [
      "                 customer_unique_id  total_spent  frequency  avg_installments  \\\n",
      "0  0000366f3b9a7992bf8c76cfdf3221e2       129.90          1               8.0   \n",
      "1  0000b849f77a49e4a4ce2b2a4ca5be3f        18.90          1               1.0   \n",
      "2  0000f46a3911fa3c0805444483337064        69.00          1               8.0   \n",
      "3  0000f6ccb0745a6a4b88665a16c9f078        25.99          1               4.0   \n",
      "4  0004aac84e0df4da2b147fca70cf8255       180.00          1               6.0   \n",
      "5  0004bd2a26a76fe21f786e4fbd80607f       154.00          1               8.0   \n",
      "6  00050ab1314c0e55a6ca13cf7181fecf        27.99          1               1.0   \n",
      "7  00053a61a98854899e70ed204dd4bafe       382.00          2               3.0   \n",
      "8  0005e1862207bf6ccc02e4228effd9a0       135.00          1               3.0   \n",
      "9  0005ef4cd20d2893f0d9fbd94d3c0d97       104.90          1               4.0   \n",
      "\n",
      "   total_items  payment_price_ratio  recency  avg_fractional_payment_ratio  \\\n",
      "0          1.0             1.092379      115                      0.056378   \n",
      "1          1.0             1.438624      118                      0.036778   \n",
      "2          1.0             1.249565      541                      0.092786   \n",
      "3          1.0             1.678338      325                      0.091701   \n",
      "4          1.0             1.093833      292                      0.030474   \n",
      "5          1.0             1.084286      150                      0.047910   \n",
      "6          1.0             1.264023      135                      0.028265   \n",
      "7          3.0             2.194660      186                      0.003578   \n",
      "8          1.0             1.112000      547                      0.019984   \n",
      "9          1.0             1.236988      174                      0.030826   \n",
      "\n",
      "   total_freight_value  \n",
      "0                12.00  \n",
      "1                 8.29  \n",
      "2                17.22  \n",
      "3                17.63  \n",
      "4                16.89  \n",
      "5                12.98  \n",
      "6                 7.39  \n",
      "7                37.18  \n",
      "8                15.12  \n",
      "9                24.86  \n"
     ]
    }
   ],
   "source": [
    "df_rfm = load_data(f\"{OUTPUTS_DIR}/segmentation_01_analyse_rfm_dataset.csv\")"
   ]
  },
  {
   "cell_type": "markdown",
   "metadata": {},
   "source": [
    "### Détermination du nombre de clusters optimal pour chaque modèle"
   ]
  },
  {
   "cell_type": "code",
   "execution_count": 4,
   "metadata": {},
   "outputs": [],
   "source": [
    "X = df_rfm.drop(\"customer_unique_id\", axis=1)\n",
    "scaler = StandardScaler()\n",
    "X_scaled = scaler.fit_transform(X)\n",
    "model = PCA(n_components=0.95)\n",
    "X_transformed = model.fit_transform(X_scaled)"
   ]
  },
  {
   "cell_type": "markdown",
   "metadata": {},
   "source": [
    "#### KMeans"
   ]
  },
  {
   "cell_type": "code",
   "execution_count": 5,
   "metadata": {},
   "outputs": [
    {
     "data": {
      "image/png": "[encoded data removed]",
      "text/plain": [
       "<Figure size 800x550 with 1 Axes>"
      ]
     },
     "metadata": {},
     "output_type": "display_data"
    },
    {
     "data": {
      "text/plain": [
       "<Axes: title={'center': 'Distortion Score Elbow for KMeans Clustering'}, xlabel='k', ylabel='distortion score'>"
      ]
     },
     "execution_count": 5,
     "metadata": {},
     "output_type": "execute_result"
    }
   ],
   "source": [
    "visualizer = KElbowVisualizer(KMeans(random_state=PARAMS[\"SEED\"]), k=(2,10), timings=False)\n",
    "visualizer.fit(X_transformed)\n",
    "visualizer.show()"
   ]
  },
  {
   "cell_type": "code",
   "execution_count": 6,
   "metadata": {},
   "outputs": [],
   "source": [
    "n_clusters_kmeans = visualizer.elbow_value_"
   ]
  },
  {
   "cell_type": "markdown",
   "metadata": {},
   "source": [
    "#### GaussianMixture"
   ]
  },
  {
   "cell_type": "code",
   "execution_count": 7,
   "metadata": {},
   "outputs": [
    {
     "data": {
      "text/html": [
       "<div>\n",
       "<style scoped>\n",
       "    .dataframe tbody tr th:only-of-type {\n",
       "        vertical-align: middle;\n",
       "    }\n",
       "\n",
       "    .dataframe tbody tr th {\n",
       "        vertical-align: top;\n",
       "    }\n",
       "\n",
       "    .dataframe thead th {\n",
       "        text-align: right;\n",
       "    }\n",
       "</style>\n",
       "<table border=\"1\" class=\"dataframe\">\n",
       "  <thead>\n",
       "    <tr style=\"text-align: right;\">\n",
       "      <th></th>\n",
       "      <th>Covariance_Type</th>\n",
       "      <th>N_Components</th>\n",
       "      <th>BIC_Score</th>\n",
       "    </tr>\n",
       "  </thead>\n",
       "  <tbody>\n",
       "    <tr>\n",
       "      <th>39</th>\n",
       "      <td>full</td>\n",
       "      <td>10</td>\n",
       "      <td>-965921.288378</td>\n",
       "    </tr>\n",
       "  </tbody>\n",
       "</table>\n",
       "</div>"
      ],
      "text/plain": [
       "   Covariance_Type  N_Components      BIC_Score\n",
       "39            full            10 -965921.288378"
      ]
     },
     "execution_count": 7,
     "metadata": {},
     "output_type": "execute_result"
    }
   ],
   "source": [
    "n_components = range(1, 11)\n",
    "covariance_type = ['spherical', 'tied', 'diag', 'full']\n",
    "score=[]\n",
    "for cov in covariance_type:\n",
    "    for n_comp in n_components:\n",
    "        gmm=GaussianMixture(n_components=n_comp,covariance_type=cov, random_state = PARAMS[\"SEED\"])\n",
    "        gmm.fit(X_transformed)\n",
    "        score.append((cov,n_comp,gmm.bic(X_transformed)))\n",
    "score_1 = pd.DataFrame(score)\n",
    "score_1.columns = ['Covariance_Type', 'N_Components','BIC_Score']\n",
    "score_2 = score_1[score_1.BIC_Score == score_1.BIC_Score.min()]\n",
    "\n",
    "score_2.head(n=2)"
   ]
  },
  {
   "cell_type": "code",
   "execution_count": 8,
   "metadata": {},
   "outputs": [],
   "source": [
    "n_components_gauss = score_2.head(n=2).N_Components.values[0]"
   ]
  },
  {
   "cell_type": "markdown",
   "metadata": {},
   "source": [
    "#### DBSCAN"
   ]
  },
  {
   "cell_type": "code",
   "execution_count": 9,
   "metadata": {},
   "outputs": [
    {
     "name": "stdout",
     "output_type": "stream",
     "text": [
      "0.4984019064914824\n"
     ]
    },
    {
     "data": {
      "text/plain": [
       "<Figure size 500x500 with 0 Axes>"
      ]
     },
     "metadata": {},
     "output_type": "display_data"
    },
    {
     "data": {
      "image/png": "[encoded data removed]",
      "text/plain": [
       "<Figure size 600x600 with 1 Axes>"
      ]
     },
     "metadata": {},
     "output_type": "display_data"
    }
   ],
   "source": [
    "nearest_neighbors = NearestNeighbors(n_neighbors=11)\n",
    "neighbors = nearest_neighbors.fit(X_transformed)\n",
    "distances, indices = neighbors.kneighbors(X_transformed)\n",
    "distances = np.sort(distances[:,10], axis=0)\n",
    "\n",
    "\n",
    "i = np.arange(len(distances))\n",
    "knee = KneeLocator(i, distances, S=1, curve='convex', direction='increasing', interp_method='polynomial')\n",
    "fig = plt.figure(figsize=(5, 5))\n",
    "knee.plot_knee()\n",
    "plt.xlabel(\"Points\")\n",
    "plt.ylabel(\"Distance\")\n",
    "\n",
    "print(distances[knee.knee])"
   ]
  },
  {
   "cell_type": "code",
   "execution_count": 10,
   "metadata": {},
   "outputs": [],
   "source": [
    "eps_dbscan = distances[knee.knee]"
   ]
  },
  {
   "cell_type": "markdown",
   "metadata": {},
   "source": [
    "### MLFlow"
   ]
  },
  {
   "cell_type": "code",
   "execution_count": 11,
   "metadata": {},
   "outputs": [],
   "source": [
    "ESTIMATOR_PARAMS = {\n",
    "    \"DBSCAN\": {\n",
    "        \"estimator\": DBSCAN,\n",
    "        \"params\": {\"eps\": eps_dbscan, \"min_samples\": 2}\n",
    "    },\n",
    "    \"KMeans\": {\n",
    "        \"estimator\": KMeans,\n",
    "        \"params\": {\"n_clusters\": n_clusters_kmeans, \"random_state\": PARAMS[\"SEED\"]}\n",
    "    },\n",
    "    \"GaussianMixture\": {\n",
    "        \"estimator\": GaussianMixture,\n",
    "        \"params\": {\"n_components\": n_components_gauss, \"random_state\": PARAMS[\"SEED\"]}\n",
    "    }\n",
    "}"
   ]
  },
  {
   "cell_type": "code",
   "execution_count": 12,
   "metadata": {},
   "outputs": [],
   "source": [
    "experiment_name = PARAMS[\"EXPERIMENT_NAME\"]\n",
    "mlflow.set_experiment(experiment_name)\n",
    "experiment = mlflow.get_experiment_by_name(experiment_name)\n",
    "experiment_id = experiment.experiment_id"
   ]
  },
  {
   "cell_type": "code",
   "execution_count": 13,
   "metadata": {},
   "outputs": [
    {
     "name": "stderr",
     "output_type": "stream",
     "text": [
      "\u001b[34m2024-08-09 16:18:26.452\u001b[0m | \u001b[1mINFO    \u001b[0m | \u001b[32m__main__\u001b[0m:\u001b[35m<module>\u001b[0m:\u001b[33m10\u001b[0m | \u001b[36mThread: MainThread\u001b[0m | \u001b[37mPID: 49869\u001b[0m - run_id: ebd8f7a115da4579ae70b3c02161678a\n",
      "\u001b[34m2024-08-09 16:18:26.453\u001b[0m | \u001b[1mINFO    \u001b[0m | \u001b[32m__main__\u001b[0m:\u001b[35m<module>\u001b[0m:\u001b[33m11\u001b[0m | \u001b[36mThread: MainThread\u001b[0m | \u001b[37mPID: 49869\u001b[0m - version tag value: v1\n",
      "\u001b[34m2024-08-09 16:20:07.855\u001b[0m | \u001b[1mINFO    \u001b[0m | \u001b[32m__main__\u001b[0m:\u001b[35m<module>\u001b[0m:\u001b[33m39\u001b[0m | \u001b[36mThread: MainThread\u001b[0m | \u001b[37mPID: 49869\u001b[0m - Estimator: DBSCAN\n",
      "\u001b[34m2024-08-09 16:20:07.860\u001b[0m | \u001b[1mINFO    \u001b[0m | \u001b[32m__main__\u001b[0m:\u001b[35m<module>\u001b[0m:\u001b[33m40\u001b[0m | \u001b[36mThread: MainThread\u001b[0m | \u001b[37mPID: 49869\u001b[0m - Silhouette Score: -0.8421570639054003 --- Calinski Score: 41.27951500707827 --- Davies Score: 3.1809868706252424\n",
      "2024/08/09 16:20:08 WARNING mlflow.sklearn: Model was missing function: predict. Not logging python_function flavor!\n",
      "Registered model 'segmentation-olist-DBSCAN' already exists. Creating a new version of this model...\n",
      "Created version '5' of model 'segmentation-olist-DBSCAN'.\n",
      "\u001b[34m2024-08-09 16:20:10.812\u001b[0m | \u001b[1mINFO    \u001b[0m | \u001b[32m__main__\u001b[0m:\u001b[35m<module>\u001b[0m:\u001b[33m47\u001b[0m | \u001b[36mThread: MainThread\u001b[0m | \u001b[37mPID: 49869\u001b[0m - Entrainement de DBSCAN terminé et journalisé sur MLlow\n",
      "\u001b[34m2024-08-09 16:20:10.833\u001b[0m | \u001b[1mINFO    \u001b[0m | \u001b[32m__main__\u001b[0m:\u001b[35m<module>\u001b[0m:\u001b[33m10\u001b[0m | \u001b[36mThread: MainThread\u001b[0m | \u001b[37mPID: 49869\u001b[0m - run_id: a8e9420005d1464da1c05880b78dee4d\n",
      "\u001b[34m2024-08-09 16:20:10.833\u001b[0m | \u001b[1mINFO    \u001b[0m | \u001b[32m__main__\u001b[0m:\u001b[35m<module>\u001b[0m:\u001b[33m11\u001b[0m | \u001b[36mThread: MainThread\u001b[0m | \u001b[37mPID: 49869\u001b[0m - version tag value: v1\n",
      "\u001b[34m2024-08-09 16:21:30.566\u001b[0m | \u001b[1mINFO    \u001b[0m | \u001b[32m__main__\u001b[0m:\u001b[35m<module>\u001b[0m:\u001b[33m39\u001b[0m | \u001b[36mThread: MainThread\u001b[0m | \u001b[37mPID: 49869\u001b[0m - Estimator: KMeans\n",
      "\u001b[34m2024-08-09 16:21:30.569\u001b[0m | \u001b[1mINFO    \u001b[0m | \u001b[32m__main__\u001b[0m:\u001b[35m<module>\u001b[0m:\u001b[33m40\u001b[0m | \u001b[36mThread: MainThread\u001b[0m | \u001b[37mPID: 49869\u001b[0m - Silhouette Score: 0.15032243282833976 --- Calinski Score: 11699.361908684092 --- Davies Score: 3.6408248188462777\n",
      "Registered model 'segmentation-olist-KMeans' already exists. Creating a new version of this model...\n",
      "Created version '5' of model 'segmentation-olist-KMeans'.\n",
      "\u001b[34m2024-08-09 16:21:32.794\u001b[0m | \u001b[1mINFO    \u001b[0m | \u001b[32m__main__\u001b[0m:\u001b[35m<module>\u001b[0m:\u001b[33m47\u001b[0m | \u001b[36mThread: MainThread\u001b[0m | \u001b[37mPID: 49869\u001b[0m - Entrainement de KMeans terminé et journalisé sur MLlow\n",
      "\u001b[34m2024-08-09 16:21:32.815\u001b[0m | \u001b[1mINFO    \u001b[0m | \u001b[32m__main__\u001b[0m:\u001b[35m<module>\u001b[0m:\u001b[33m10\u001b[0m | \u001b[36mThread: MainThread\u001b[0m | \u001b[37mPID: 49869\u001b[0m - run_id: 21a71bb5c1134783a90f173a9377d529\n",
      "\u001b[34m2024-08-09 16:21:32.816\u001b[0m | \u001b[1mINFO    \u001b[0m | \u001b[32m__main__\u001b[0m:\u001b[35m<module>\u001b[0m:\u001b[33m11\u001b[0m | \u001b[36mThread: MainThread\u001b[0m | \u001b[37mPID: 49869\u001b[0m - version tag value: v1\n",
      "\u001b[34m2024-08-09 16:23:17.715\u001b[0m | \u001b[1mINFO    \u001b[0m | \u001b[32m__main__\u001b[0m:\u001b[35m<module>\u001b[0m:\u001b[33m39\u001b[0m | \u001b[36mThread: MainThread\u001b[0m | \u001b[37mPID: 49869\u001b[0m - Estimator: GaussianMixture\n",
      "\u001b[34m2024-08-09 16:23:17.726\u001b[0m | \u001b[1mINFO    \u001b[0m | \u001b[32m__main__\u001b[0m:\u001b[35m<module>\u001b[0m:\u001b[33m40\u001b[0m | \u001b[36mThread: MainThread\u001b[0m | \u001b[37mPID: 49869\u001b[0m - Silhouette Score: -0.03399756890023419 --- Calinski Score: 6330.485091158911 --- Davies Score: 10.442015187552043\n",
      "Registered model 'segmentation-olist-GaussianMixture' already exists. Creating a new version of this model...\n",
      "Created version '5' of model 'segmentation-olist-GaussianMixture'.\n",
      "\u001b[34m2024-08-09 16:23:19.699\u001b[0m | \u001b[1mINFO    \u001b[0m | \u001b[32m__main__\u001b[0m:\u001b[35m<module>\u001b[0m:\u001b[33m47\u001b[0m | \u001b[36mThread: MainThread\u001b[0m | \u001b[37mPID: 49869\u001b[0m - Entrainement de GaussianMixture terminé et journalisé sur MLlow\n"
     ]
    }
   ],
   "source": [
    "for model_name, model_config in ESTIMATOR_PARAMS.items():\n",
    "    estimator = model_config[\"estimator\"]\n",
    "    params = model_config[\"params\"]\n",
    "\n",
    "    with mlflow.start_run(run_name=f\"{CURRENT_DATE.strftime('%Y%m%d_%H%m%S')}-RFM-Segmentation-{model_name}\",\n",
    "                            experiment_id=experiment_id,\n",
    "                            tags={\"version\": \"v1\", \"priority\": \"P1\"},\n",
    "                            description=\"RFM segmentation modeling\",\n",
    "                            ) as mlf_run:\n",
    "        logger.info(f\"run_id: {mlf_run.info.run_id}\")\n",
    "        logger.info(f\"version tag value: {mlf_run.data.tags.get('version')}\")\n",
    "\n",
    "        mlflow.log_params(params)\n",
    "\n",
    "        pipeline = Pipeline([\n",
    "            ('scaler', StandardScaler()),\n",
    "            ('pca', PCA(n_components=0.95)),\n",
    "            ('estimator', estimator(**params))\n",
    "        ])\n",
    "\n",
    "        pipeline.fit(X)\n",
    "\n",
    "        # Predict cluster labels\n",
    "        if hasattr(pipeline.named_steps['estimator'], 'labels_'):\n",
    "            labels = pipeline.named_steps['estimator'].labels_\n",
    "        else:\n",
    "            labels = pipeline.predict(X)\n",
    "\n",
    "        # Calculate and log metrics\n",
    "        if len(set(labels)) > 1:\n",
    "            silhouette = silhouette_score(X, labels)\n",
    "            calinski_harabasz = calinski_harabasz_score(X, labels)\n",
    "            davies_bouldin = davies_bouldin_score(X, labels)\n",
    "\n",
    "            mlflow.log_metric(\"silhouette_score\", silhouette)\n",
    "            mlflow.log_metric(\"calinski_harabasz_score\", calinski_harabasz)\n",
    "            mlflow.log_metric(\"davies_bouldin_score\", davies_bouldin)\n",
    "\n",
    "        logger.info(f\"Estimator: {pipeline[-1].__class__.__name__}\")\n",
    "        logger.info(f\"Silhouette Score: {silhouette} --- Calinski Score: {calinski_harabasz} --- Davies Score: {davies_bouldin}\")\n",
    "\n",
    "        # Log the model\n",
    "        signature = infer_signature(X, labels)\n",
    "\n",
    "        mlflow.sklearn.log_model(pipeline, artifact_path=model_name, signature=signature, input_example=X[:5], registered_model_name=f\"segmentation-olist-{model_name}\")\n",
    "\n",
    "        logger.info(f\"Entrainement de {model_name} terminé et journalisé sur MLlow\")"
   ]
  },
  {
   "cell_type": "markdown",
   "metadata": {},
   "source": [
    "En comparant les résultats obtenus, nous pouvons voir que le modèle KMeans présente les meilleurs performances avec le plus haut silhouette_socre et calinski_harabasz_score bien que le modèle DBSCAN présente un plus faible davies_bouldin_score</br>\n",
    "Nous allons donc  sauvegarder et utiliser ce modèle dans la suite"
   ]
  },
  {
   "cell_type": "code",
   "execution_count": 14,
   "metadata": {},
   "outputs": [],
   "source": [
    "model_name = \"segmentation-olist-KMeans\"\n",
    "client = MlflowClient()\n",
    "latest_version = client.get_latest_versions(model_name, stages=[\"None\"])[0].version\n",
    "model = mlflow.sklearn.load_model(model_uri=f\"models:/{model_name}/{latest_version}\")"
   ]
  },
  {
   "cell_type": "code",
   "execution_count": 15,
   "metadata": {},
   "outputs": [],
   "source": [
    "with open(f'{OUTPUTS_DIR}/olist-kmeans-current.pkl', 'wb') as file:\n",
    "    pickle.dump(model, file)\n",
    "\n",
    "with open(f'{API_DIR}/models/olist-kmeans-current.pkl', 'wb') as file:\n",
    "    pickle.dump(model, file)"
   ]
  },
  {
   "cell_type": "markdown",
   "metadata": {},
   "source": [
    "### Interprétation des segments"
   ]
  },
  {
   "cell_type": "code",
   "execution_count": 16,
   "metadata": {},
   "outputs": [],
   "source": [
    "with open(f'{OUTPUTS_DIR}/olist-kmeans-current.pkl', 'rb') as file:\n",
    "    model = pickle.load(file)"
   ]
  },
  {
   "cell_type": "code",
   "execution_count": 17,
   "metadata": {},
   "outputs": [
    {
     "data": {
      "text/html": [
       "<style>#sk-container-id-1 {color: black;}#sk-container-id-1 pre{padding: 0;}#sk-container-id-1 div.sk-toggleable {background-color: white;}#sk-container-id-1 label.sk-toggleable__label {cursor: pointer;display: block;width: 100%;margin-bottom: 0;padding: 0.3em;box-sizing: border-box;text-align: center;}#sk-container-id-1 label.sk-toggleable__label-arrow:before {content: \"▸\";float: left;margin-right: 0.25em;color: #696969;}#sk-container-id-1 label.sk-toggleable__label-arrow:hover:before {color: black;}#sk-container-id-1 div.sk-estimator:hover label.sk-toggleable__label-arrow:before {color: black;}#sk-container-id-1 div.sk-toggleable__content {max-height: 0;max-width: 0;overflow: hidden;text-align: left;background-color: #f0f8ff;}#sk-container-id-1 div.sk-toggleable__content pre {margin: 0.2em;color: black;border-radius: 0.25em;background-color: #f0f8ff;}#sk-container-id-1 input.sk-toggleable__control:checked~div.sk-toggleable__content {max-height: 200px;max-width: 100%;overflow: auto;}#sk-container-id-1 input.sk-toggleable__control:checked~label.sk-toggleable__label-arrow:before {content: \"▾\";}#sk-container-id-1 div.sk-estimator input.sk-toggleable__control:checked~label.sk-toggleable__label {background-color: #d4ebff;}#sk-container-id-1 div.sk-label input.sk-toggleable__control:checked~label.sk-toggleable__label {background-color: #d4ebff;}#sk-container-id-1 input.sk-hidden--visually {border: 0;clip: rect(1px 1px 1px 1px);clip: rect(1px, 1px, 1px, 1px);height: 1px;margin: -1px;overflow: hidden;padding: 0;position: absolute;width: 1px;}#sk-container-id-1 div.sk-estimator {font-family: monospace;background-color: #f0f8ff;border: 1px dotted black;border-radius: 0.25em;box-sizing: border-box;margin-bottom: 0.5em;}#sk-container-id-1 div.sk-estimator:hover {background-color: #d4ebff;}#sk-container-id-1 div.sk-parallel-item::after {content: \"\";width: 100%;border-bottom: 1px solid gray;flex-grow: 1;}#sk-container-id-1 div.sk-label:hover label.sk-toggleable__label {background-color: #d4ebff;}#sk-container-id-1 div.sk-serial::before {content: \"\";position: absolute;border-left: 1px solid gray;box-sizing: border-box;top: 0;bottom: 0;left: 50%;z-index: 0;}#sk-container-id-1 div.sk-serial {display: flex;flex-direction: column;align-items: center;background-color: white;padding-right: 0.2em;padding-left: 0.2em;position: relative;}#sk-container-id-1 div.sk-item {position: relative;z-index: 1;}#sk-container-id-1 div.sk-parallel {display: flex;align-items: stretch;justify-content: center;background-color: white;position: relative;}#sk-container-id-1 div.sk-item::before, #sk-container-id-1 div.sk-parallel-item::before {content: \"\";position: absolute;border-left: 1px solid gray;box-sizing: border-box;top: 0;bottom: 0;left: 50%;z-index: -1;}#sk-container-id-1 div.sk-parallel-item {display: flex;flex-direction: column;z-index: 1;position: relative;background-color: white;}#sk-container-id-1 div.sk-parallel-item:first-child::after {align-self: flex-end;width: 50%;}#sk-container-id-1 div.sk-parallel-item:last-child::after {align-self: flex-start;width: 50%;}#sk-container-id-1 div.sk-parallel-item:only-child::after {width: 0;}#sk-container-id-1 div.sk-dashed-wrapped {border: 1px dashed gray;margin: 0 0.4em 0.5em 0.4em;box-sizing: border-box;padding-bottom: 0.4em;background-color: white;}#sk-container-id-1 div.sk-label label {font-family: monospace;font-weight: bold;display: inline-block;line-height: 1.2em;}#sk-container-id-1 div.sk-label-container {text-align: center;}#sk-container-id-1 div.sk-container {/* jupyter's `normalize.less` sets `[hidden] { display: none; }` but bootstrap.min.css set `[hidden] { display: none !important; }` so we also need the `!important` here to be able to override the default hidden behavior on the sphinx rendered scikit-learn.org. See: https://github.com/scikit-learn/scikit-learn/issues/21755 */display: inline-block !important;position: relative;}#sk-container-id-1 div.sk-text-repr-fallback {display: none;}</style><div id=\"sk-container-id-1\" class=\"sk-top-container\"><div class=\"sk-text-repr-fallback\"><pre>Pipeline(steps=[(&#x27;scaler&#x27;, StandardScaler()), (&#x27;pca&#x27;, PCA(n_components=0.95)),\n",
       "                (&#x27;estimator&#x27;, KMeans(n_clusters=5, random_state=42))])</pre><b>In a Jupyter environment, please rerun this cell to show the HTML representation or trust the notebook. <br />On GitHub, the HTML representation is unable to render, please try loading this page with nbviewer.org.</b></div><div class=\"sk-container\" hidden><div class=\"sk-item sk-dashed-wrapped\"><div class=\"sk-label-container\"><div class=\"sk-label sk-toggleable\"><input class=\"sk-toggleable__control sk-hidden--visually\" id=\"sk-estimator-id-1\" type=\"checkbox\" ><label for=\"sk-estimator-id-1\" class=\"sk-toggleable__label sk-toggleable__label-arrow\">Pipeline</label><div class=\"sk-toggleable__content\"><pre>Pipeline(steps=[(&#x27;scaler&#x27;, StandardScaler()), (&#x27;pca&#x27;, PCA(n_components=0.95)),\n",
       "                (&#x27;estimator&#x27;, KMeans(n_clusters=5, random_state=42))])</pre></div></div></div><div class=\"sk-serial\"><div class=\"sk-item\"><div class=\"sk-estimator sk-toggleable\"><input class=\"sk-toggleable__control sk-hidden--visually\" id=\"sk-estimator-id-2\" type=\"checkbox\" ><label for=\"sk-estimator-id-2\" class=\"sk-toggleable__label sk-toggleable__label-arrow\">StandardScaler</label><div class=\"sk-toggleable__content\"><pre>StandardScaler()</pre></div></div></div><div class=\"sk-item\"><div class=\"sk-estimator sk-toggleable\"><input class=\"sk-toggleable__control sk-hidden--visually\" id=\"sk-estimator-id-3\" type=\"checkbox\" ><label for=\"sk-estimator-id-3\" class=\"sk-toggleable__label sk-toggleable__label-arrow\">PCA</label><div class=\"sk-toggleable__content\"><pre>PCA(n_components=0.95)</pre></div></div></div><div class=\"sk-item\"><div class=\"sk-estimator sk-toggleable\"><input class=\"sk-toggleable__control sk-hidden--visually\" id=\"sk-estimator-id-4\" type=\"checkbox\" ><label for=\"sk-estimator-id-4\" class=\"sk-toggleable__label sk-toggleable__label-arrow\">KMeans</label><div class=\"sk-toggleable__content\"><pre>KMeans(n_clusters=5, random_state=42)</pre></div></div></div></div></div></div></div>"
      ],
      "text/plain": [
       "Pipeline(steps=[('scaler', StandardScaler()), ('pca', PCA(n_components=0.95)),\n",
       "                ('estimator', KMeans(n_clusters=5, random_state=42))])"
      ]
     },
     "execution_count": 17,
     "metadata": {},
     "output_type": "execute_result"
    }
   ],
   "source": [
    "model"
   ]
  },
  {
   "cell_type": "code",
   "execution_count": 18,
   "metadata": {},
   "outputs": [
    {
     "data": {
      "image/png": "[encoded data removed]",
      "text/plain": [
       "<Figure size 800x550 with 2 Axes>"
      ]
     },
     "metadata": {},
     "output_type": "display_data"
    },
    {
     "data": {
      "text/plain": [
       "<Axes: title={'center': 'KMeans Intercluster Distance Map (via MDS)'}, xlabel='PC2', ylabel='PC1'>"
      ]
     },
     "execution_count": 18,
     "metadata": {},
     "output_type": "execute_result"
    }
   ],
   "source": [
    "visualizer = InterclusterDistance(KMeans(n_clusters=n_clusters_kmeans, random_state=PARAMS[\"SEED\"]))\n",
    "visualizer.fit(X)\n",
    "visualizer.show()"
   ]
  },
  {
   "cell_type": "code",
   "execution_count": 19,
   "metadata": {},
   "outputs": [
    {
     "data": {
      "text/html": [
       "<div>\n",
       "<style scoped>\n",
       "    .dataframe tbody tr th:only-of-type {\n",
       "        vertical-align: middle;\n",
       "    }\n",
       "\n",
       "    .dataframe tbody tr th {\n",
       "        vertical-align: top;\n",
       "    }\n",
       "\n",
       "    .dataframe thead th {\n",
       "        text-align: right;\n",
       "    }\n",
       "</style>\n",
       "<table border=\"1\" class=\"dataframe\">\n",
       "  <thead>\n",
       "    <tr style=\"text-align: right;\">\n",
       "      <th></th>\n",
       "      <th>customer_unique_id</th>\n",
       "      <th>total_spent</th>\n",
       "      <th>frequency</th>\n",
       "      <th>avg_installments</th>\n",
       "      <th>total_items</th>\n",
       "      <th>payment_price_ratio</th>\n",
       "      <th>recency</th>\n",
       "      <th>avg_fractional_payment_ratio</th>\n",
       "      <th>total_freight_value</th>\n",
       "      <th>segments</th>\n",
       "    </tr>\n",
       "  </thead>\n",
       "  <tbody>\n",
       "    <tr>\n",
       "      <th>0</th>\n",
       "      <td>0000366f3b9a7992bf8c76cfdf3221e2</td>\n",
       "      <td>129.90</td>\n",
       "      <td>1</td>\n",
       "      <td>8.0</td>\n",
       "      <td>1.0</td>\n",
       "      <td>1.092379</td>\n",
       "      <td>115</td>\n",
       "      <td>0.056378</td>\n",
       "      <td>12.00</td>\n",
       "      <td>1</td>\n",
       "    </tr>\n",
       "    <tr>\n",
       "      <th>1</th>\n",
       "      <td>0000b849f77a49e4a4ce2b2a4ca5be3f</td>\n",
       "      <td>18.90</td>\n",
       "      <td>1</td>\n",
       "      <td>1.0</td>\n",
       "      <td>1.0</td>\n",
       "      <td>1.438624</td>\n",
       "      <td>118</td>\n",
       "      <td>0.036778</td>\n",
       "      <td>8.29</td>\n",
       "      <td>4</td>\n",
       "    </tr>\n",
       "    <tr>\n",
       "      <th>2</th>\n",
       "      <td>0000f46a3911fa3c0805444483337064</td>\n",
       "      <td>69.00</td>\n",
       "      <td>1</td>\n",
       "      <td>8.0</td>\n",
       "      <td>1.0</td>\n",
       "      <td>1.249565</td>\n",
       "      <td>541</td>\n",
       "      <td>0.092786</td>\n",
       "      <td>17.22</td>\n",
       "      <td>1</td>\n",
       "    </tr>\n",
       "    <tr>\n",
       "      <th>3</th>\n",
       "      <td>0000f6ccb0745a6a4b88665a16c9f078</td>\n",
       "      <td>25.99</td>\n",
       "      <td>1</td>\n",
       "      <td>4.0</td>\n",
       "      <td>1.0</td>\n",
       "      <td>1.678338</td>\n",
       "      <td>325</td>\n",
       "      <td>0.091701</td>\n",
       "      <td>17.63</td>\n",
       "      <td>1</td>\n",
       "    </tr>\n",
       "    <tr>\n",
       "      <th>4</th>\n",
       "      <td>0004aac84e0df4da2b147fca70cf8255</td>\n",
       "      <td>180.00</td>\n",
       "      <td>1</td>\n",
       "      <td>6.0</td>\n",
       "      <td>1.0</td>\n",
       "      <td>1.093833</td>\n",
       "      <td>292</td>\n",
       "      <td>0.030474</td>\n",
       "      <td>16.89</td>\n",
       "      <td>1</td>\n",
       "    </tr>\n",
       "  </tbody>\n",
       "</table>\n",
       "</div>"
      ],
      "text/plain": [
       "                 customer_unique_id  total_spent  frequency  avg_installments  \\\n",
       "0  0000366f3b9a7992bf8c76cfdf3221e2       129.90          1               8.0   \n",
       "1  0000b849f77a49e4a4ce2b2a4ca5be3f        18.90          1               1.0   \n",
       "2  0000f46a3911fa3c0805444483337064        69.00          1               8.0   \n",
       "3  0000f6ccb0745a6a4b88665a16c9f078        25.99          1               4.0   \n",
       "4  0004aac84e0df4da2b147fca70cf8255       180.00          1               6.0   \n",
       "\n",
       "   total_items  payment_price_ratio  recency  avg_fractional_payment_ratio  \\\n",
       "0          1.0             1.092379      115                      0.056378   \n",
       "1          1.0             1.438624      118                      0.036778   \n",
       "2          1.0             1.249565      541                      0.092786   \n",
       "3          1.0             1.678338      325                      0.091701   \n",
       "4          1.0             1.093833      292                      0.030474   \n",
       "\n",
       "   total_freight_value  segments  \n",
       "0                12.00         1  \n",
       "1                 8.29         4  \n",
       "2                17.22         1  \n",
       "3                17.63         1  \n",
       "4                16.89         1  "
      ]
     },
     "execution_count": 19,
     "metadata": {},
     "output_type": "execute_result"
    }
   ],
   "source": [
    "df_seg_kmeans = df_rfm.copy()\n",
    "df_seg_kmeans['segments'] = model.predict(X)\n",
    "df_seg_kmeans.head()"
   ]
  },
  {
   "cell_type": "code",
   "execution_count": 20,
   "metadata": {},
   "outputs": [],
   "source": [
    "df_seg_kmeans.to_csv(f\"{API_DIR}/data/segmentation_kmeans_result.csv\", index=False)"
   ]
  },
  {
   "cell_type": "code",
   "execution_count": 21,
   "metadata": {},
   "outputs": [
    {
     "data": {
      "text/html": [
       "<div>\n",
       "<style scoped>\n",
       "    .dataframe tbody tr th:only-of-type {\n",
       "        vertical-align: middle;\n",
       "    }\n",
       "\n",
       "    .dataframe tbody tr th {\n",
       "        vertical-align: top;\n",
       "    }\n",
       "\n",
       "    .dataframe thead th {\n",
       "        text-align: right;\n",
       "    }\n",
       "</style>\n",
       "<table border=\"1\" class=\"dataframe\">\n",
       "  <thead>\n",
       "    <tr style=\"text-align: right;\">\n",
       "      <th></th>\n",
       "      <th>total_spent</th>\n",
       "      <th>frequency</th>\n",
       "      <th>avg_installments</th>\n",
       "      <th>total_items</th>\n",
       "      <th>payment_price_ratio</th>\n",
       "      <th>recency</th>\n",
       "      <th>avg_fractional_payment_ratio</th>\n",
       "      <th>total_freight_value</th>\n",
       "    </tr>\n",
       "    <tr>\n",
       "      <th>segments</th>\n",
       "      <th></th>\n",
       "      <th></th>\n",
       "      <th></th>\n",
       "      <th></th>\n",
       "      <th></th>\n",
       "      <th></th>\n",
       "      <th></th>\n",
       "      <th></th>\n",
       "    </tr>\n",
       "  </thead>\n",
       "  <tbody>\n",
       "    <tr>\n",
       "      <th>0</th>\n",
       "      <td>110.634750</td>\n",
       "      <td>1.120612</td>\n",
       "      <td>1.821361</td>\n",
       "      <td>1.186958</td>\n",
       "      <td>1.374357</td>\n",
       "      <td>391.859870</td>\n",
       "      <td>0.018300</td>\n",
       "      <td>19.877196</td>\n",
       "    </tr>\n",
       "    <tr>\n",
       "      <th>1</th>\n",
       "      <td>114.649922</td>\n",
       "      <td>1.043548</td>\n",
       "      <td>6.545977</td>\n",
       "      <td>1.073587</td>\n",
       "      <td>1.356946</td>\n",
       "      <td>257.686693</td>\n",
       "      <td>0.062378</td>\n",
       "      <td>19.794447</td>\n",
       "    </tr>\n",
       "    <tr>\n",
       "      <th>2</th>\n",
       "      <td>697.614984</td>\n",
       "      <td>7.133441</td>\n",
       "      <td>3.541767</td>\n",
       "      <td>21.368167</td>\n",
       "      <td>7.418621</td>\n",
       "      <td>230.554662</td>\n",
       "      <td>0.003029</td>\n",
       "      <td>152.128424</td>\n",
       "    </tr>\n",
       "    <tr>\n",
       "      <th>3</th>\n",
       "      <td>540.072907</td>\n",
       "      <td>2.225655</td>\n",
       "      <td>5.081877</td>\n",
       "      <td>3.392778</td>\n",
       "      <td>2.177333</td>\n",
       "      <td>229.376483</td>\n",
       "      <td>0.008686</td>\n",
       "      <td>66.466257</td>\n",
       "    </tr>\n",
       "    <tr>\n",
       "      <th>4</th>\n",
       "      <td>107.202166</td>\n",
       "      <td>1.107699</td>\n",
       "      <td>1.721428</td>\n",
       "      <td>1.168824</td>\n",
       "      <td>1.376395</td>\n",
       "      <td>129.715212</td>\n",
       "      <td>0.017734</td>\n",
       "      <td>20.278010</td>\n",
       "    </tr>\n",
       "  </tbody>\n",
       "</table>\n",
       "</div>"
      ],
      "text/plain": [
       "          total_spent  frequency  avg_installments  total_items  \\\n",
       "segments                                                          \n",
       "0          110.634750   1.120612          1.821361     1.186958   \n",
       "1          114.649922   1.043548          6.545977     1.073587   \n",
       "2          697.614984   7.133441          3.541767    21.368167   \n",
       "3          540.072907   2.225655          5.081877     3.392778   \n",
       "4          107.202166   1.107699          1.721428     1.168824   \n",
       "\n",
       "          payment_price_ratio     recency  avg_fractional_payment_ratio  \\\n",
       "segments                                                                  \n",
       "0                    1.374357  391.859870                      0.018300   \n",
       "1                    1.356946  257.686693                      0.062378   \n",
       "2                    7.418621  230.554662                      0.003029   \n",
       "3                    2.177333  229.376483                      0.008686   \n",
       "4                    1.376395  129.715212                      0.017734   \n",
       "\n",
       "          total_freight_value  \n",
       "segments                       \n",
       "0                   19.877196  \n",
       "1                   19.794447  \n",
       "2                  152.128424  \n",
       "3                   66.466257  \n",
       "4                   20.278010  "
      ]
     },
     "execution_count": 21,
     "metadata": {},
     "output_type": "execute_result"
    }
   ],
   "source": [
    "df_analysis = df_seg_kmeans.groupby('segments').mean()\n",
    "df_analysis"
   ]
  },
  {
   "cell_type": "code",
   "execution_count": 22,
   "metadata": {},
   "outputs": [
    {
     "data": {
      "text/html": [
       "<div>\n",
       "<style scoped>\n",
       "    .dataframe tbody tr th:only-of-type {\n",
       "        vertical-align: middle;\n",
       "    }\n",
       "\n",
       "    .dataframe tbody tr th {\n",
       "        vertical-align: top;\n",
       "    }\n",
       "\n",
       "    .dataframe thead th {\n",
       "        text-align: right;\n",
       "    }\n",
       "</style>\n",
       "<table border=\"1\" class=\"dataframe\">\n",
       "  <thead>\n",
       "    <tr style=\"text-align: right;\">\n",
       "      <th></th>\n",
       "      <th>total_spent</th>\n",
       "      <th>frequency</th>\n",
       "      <th>avg_installments</th>\n",
       "      <th>total_items</th>\n",
       "      <th>payment_price_ratio</th>\n",
       "      <th>recency</th>\n",
       "      <th>avg_fractional_payment_ratio</th>\n",
       "      <th>total_freight_value</th>\n",
       "      <th>#observations</th>\n",
       "      <th>Percentage</th>\n",
       "    </tr>\n",
       "    <tr>\n",
       "      <th>segments</th>\n",
       "      <th></th>\n",
       "      <th></th>\n",
       "      <th></th>\n",
       "      <th></th>\n",
       "      <th></th>\n",
       "      <th></th>\n",
       "      <th></th>\n",
       "      <th></th>\n",
       "      <th></th>\n",
       "      <th></th>\n",
       "    </tr>\n",
       "  </thead>\n",
       "  <tbody>\n",
       "    <tr>\n",
       "      <th>0</th>\n",
       "      <td>110.634750</td>\n",
       "      <td>1.120612</td>\n",
       "      <td>1.821361</td>\n",
       "      <td>1.186958</td>\n",
       "      <td>1.374357</td>\n",
       "      <td>391.859870</td>\n",
       "      <td>0.018300</td>\n",
       "      <td>19.877196</td>\n",
       "      <td>28231</td>\n",
       "      <td>0.300935</td>\n",
       "    </tr>\n",
       "    <tr>\n",
       "      <th>1</th>\n",
       "      <td>114.649922</td>\n",
       "      <td>1.043548</td>\n",
       "      <td>6.545977</td>\n",
       "      <td>1.073587</td>\n",
       "      <td>1.356946</td>\n",
       "      <td>257.686693</td>\n",
       "      <td>0.062378</td>\n",
       "      <td>19.794447</td>\n",
       "      <td>16878</td>\n",
       "      <td>0.179915</td>\n",
       "    </tr>\n",
       "    <tr>\n",
       "      <th>2</th>\n",
       "      <td>697.614984</td>\n",
       "      <td>7.133441</td>\n",
       "      <td>3.541767</td>\n",
       "      <td>21.368167</td>\n",
       "      <td>7.418621</td>\n",
       "      <td>230.554662</td>\n",
       "      <td>0.003029</td>\n",
       "      <td>152.128424</td>\n",
       "      <td>622</td>\n",
       "      <td>0.006630</td>\n",
       "    </tr>\n",
       "    <tr>\n",
       "      <th>3</th>\n",
       "      <td>540.072907</td>\n",
       "      <td>2.225655</td>\n",
       "      <td>5.081877</td>\n",
       "      <td>3.392778</td>\n",
       "      <td>2.177333</td>\n",
       "      <td>229.376483</td>\n",
       "      <td>0.008686</td>\n",
       "      <td>66.466257</td>\n",
       "      <td>7671</td>\n",
       "      <td>0.081771</td>\n",
       "    </tr>\n",
       "    <tr>\n",
       "      <th>4</th>\n",
       "      <td>107.202166</td>\n",
       "      <td>1.107699</td>\n",
       "      <td>1.721428</td>\n",
       "      <td>1.168824</td>\n",
       "      <td>1.376395</td>\n",
       "      <td>129.715212</td>\n",
       "      <td>0.017734</td>\n",
       "      <td>20.278010</td>\n",
       "      <td>40409</td>\n",
       "      <td>0.430749</td>\n",
       "    </tr>\n",
       "  </tbody>\n",
       "</table>\n",
       "</div>"
      ],
      "text/plain": [
       "          total_spent  frequency  avg_installments  total_items  \\\n",
       "segments                                                          \n",
       "0          110.634750   1.120612          1.821361     1.186958   \n",
       "1          114.649922   1.043548          6.545977     1.073587   \n",
       "2          697.614984   7.133441          3.541767    21.368167   \n",
       "3          540.072907   2.225655          5.081877     3.392778   \n",
       "4          107.202166   1.107699          1.721428     1.168824   \n",
       "\n",
       "          payment_price_ratio     recency  avg_fractional_payment_ratio  \\\n",
       "segments                                                                  \n",
       "0                    1.374357  391.859870                      0.018300   \n",
       "1                    1.356946  257.686693                      0.062378   \n",
       "2                    7.418621  230.554662                      0.003029   \n",
       "3                    2.177333  229.376483                      0.008686   \n",
       "4                    1.376395  129.715212                      0.017734   \n",
       "\n",
       "          total_freight_value  #observations  Percentage  \n",
       "segments                                                  \n",
       "0                   19.877196          28231    0.300935  \n",
       "1                   19.794447          16878    0.179915  \n",
       "2                  152.128424            622    0.006630  \n",
       "3                   66.466257           7671    0.081771  \n",
       "4                   20.278010          40409    0.430749  "
      ]
     },
     "execution_count": 22,
     "metadata": {},
     "output_type": "execute_result"
    }
   ],
   "source": [
    "df_analysis['#observations'] = df_seg_kmeans[['segments','frequency']].groupby(['segments']).count()\n",
    "df_analysis['Percentage'] = df_analysis['#observations'] / df_analysis['#observations'].sum()\n",
    "df_analysis"
   ]
  },
  {
   "cell_type": "code",
   "execution_count": 23,
   "metadata": {},
   "outputs": [
    {
     "data": {
      "text/html": [
       "<div>\n",
       "<style scoped>\n",
       "    .dataframe tbody tr th:only-of-type {\n",
       "        vertical-align: middle;\n",
       "    }\n",
       "\n",
       "    .dataframe tbody tr th {\n",
       "        vertical-align: top;\n",
       "    }\n",
       "\n",
       "    .dataframe thead th {\n",
       "        text-align: right;\n",
       "    }\n",
       "</style>\n",
       "<table border=\"1\" class=\"dataframe\">\n",
       "  <thead>\n",
       "    <tr style=\"text-align: right;\">\n",
       "      <th></th>\n",
       "      <th>total_spent</th>\n",
       "      <th>frequency</th>\n",
       "      <th>avg_installments</th>\n",
       "      <th>total_items</th>\n",
       "      <th>payment_price_ratio</th>\n",
       "      <th>recency</th>\n",
       "      <th>avg_fractional_payment_ratio</th>\n",
       "      <th>total_freight_value</th>\n",
       "      <th>#observations</th>\n",
       "      <th>Percentage</th>\n",
       "    </tr>\n",
       "    <tr>\n",
       "      <th>segments</th>\n",
       "      <th></th>\n",
       "      <th></th>\n",
       "      <th></th>\n",
       "      <th></th>\n",
       "      <th></th>\n",
       "      <th></th>\n",
       "      <th></th>\n",
       "      <th></th>\n",
       "      <th></th>\n",
       "      <th></th>\n",
       "    </tr>\n",
       "  </thead>\n",
       "  <tbody>\n",
       "    <tr>\n",
       "      <th>0</th>\n",
       "      <td>110.634750</td>\n",
       "      <td>1.120612</td>\n",
       "      <td>1.821361</td>\n",
       "      <td>1.186958</td>\n",
       "      <td>1.374357</td>\n",
       "      <td>391.859870</td>\n",
       "      <td>0.018300</td>\n",
       "      <td>19.877196</td>\n",
       "      <td>28231</td>\n",
       "      <td>0.300935</td>\n",
       "    </tr>\n",
       "    <tr>\n",
       "      <th>1</th>\n",
       "      <td>114.649922</td>\n",
       "      <td>1.043548</td>\n",
       "      <td>6.545977</td>\n",
       "      <td>1.073587</td>\n",
       "      <td>1.356946</td>\n",
       "      <td>257.686693</td>\n",
       "      <td>0.062378</td>\n",
       "      <td>19.794447</td>\n",
       "      <td>16878</td>\n",
       "      <td>0.179915</td>\n",
       "    </tr>\n",
       "    <tr>\n",
       "      <th>2</th>\n",
       "      <td>697.614984</td>\n",
       "      <td>7.133441</td>\n",
       "      <td>3.541767</td>\n",
       "      <td>21.368167</td>\n",
       "      <td>7.418621</td>\n",
       "      <td>230.554662</td>\n",
       "      <td>0.003029</td>\n",
       "      <td>152.128424</td>\n",
       "      <td>622</td>\n",
       "      <td>0.006630</td>\n",
       "    </tr>\n",
       "    <tr>\n",
       "      <th>3</th>\n",
       "      <td>540.072907</td>\n",
       "      <td>2.225655</td>\n",
       "      <td>5.081877</td>\n",
       "      <td>3.392778</td>\n",
       "      <td>2.177333</td>\n",
       "      <td>229.376483</td>\n",
       "      <td>0.008686</td>\n",
       "      <td>66.466257</td>\n",
       "      <td>7671</td>\n",
       "      <td>0.081771</td>\n",
       "    </tr>\n",
       "    <tr>\n",
       "      <th>4</th>\n",
       "      <td>107.202166</td>\n",
       "      <td>1.107699</td>\n",
       "      <td>1.721428</td>\n",
       "      <td>1.168824</td>\n",
       "      <td>1.376395</td>\n",
       "      <td>129.715212</td>\n",
       "      <td>0.017734</td>\n",
       "      <td>20.278010</td>\n",
       "      <td>40409</td>\n",
       "      <td>0.430749</td>\n",
       "    </tr>\n",
       "  </tbody>\n",
       "</table>\n",
       "</div>"
      ],
      "text/plain": [
       "          total_spent  frequency  avg_installments  total_items  \\\n",
       "segments                                                          \n",
       "0          110.634750   1.120612          1.821361     1.186958   \n",
       "1          114.649922   1.043548          6.545977     1.073587   \n",
       "2          697.614984   7.133441          3.541767    21.368167   \n",
       "3          540.072907   2.225655          5.081877     3.392778   \n",
       "4          107.202166   1.107699          1.721428     1.168824   \n",
       "\n",
       "          payment_price_ratio     recency  avg_fractional_payment_ratio  \\\n",
       "segments                                                                  \n",
       "0                    1.374357  391.859870                      0.018300   \n",
       "1                    1.356946  257.686693                      0.062378   \n",
       "2                    7.418621  230.554662                      0.003029   \n",
       "3                    2.177333  229.376483                      0.008686   \n",
       "4                    1.376395  129.715212                      0.017734   \n",
       "\n",
       "          total_freight_value  #observations  Percentage  \n",
       "segments                                                  \n",
       "0                   19.877196          28231    0.300935  \n",
       "1                   19.794447          16878    0.179915  \n",
       "2                  152.128424            622    0.006630  \n",
       "3                   66.466257           7671    0.081771  \n",
       "4                   20.278010          40409    0.430749  "
      ]
     },
     "execution_count": 23,
     "metadata": {},
     "output_type": "execute_result"
    }
   ],
   "source": [
    "df_analysis"
   ]
  },
  {
   "cell_type": "markdown",
   "metadata": {},
   "source": [
    "## Interprétation des segments et recommandations marketing\n",
    "\n",
    "**Segment 0 : Clients occasionnels avec faible dépense moyenne**\n",
    "- **Description :** Ce segment se distingue par une dépense totale relativement faible (110.63), une fréquence d'achat basse (1.12), et un faible nombre d'articles achetés en moyenne (1.19). Leurs achats sont peu récents (391.86 jours), et leur valeur de fret est également basse (19.88).\n",
    "- **Actions Marketing :**\n",
    "  - **Réengagement :** Lancer des campagnes de réactivation ciblées, comme des offres promotionnelles ou des remises spéciales pour encourager ces clients à revenir.\n",
    "  - **Communication personnalisée :** Envoyer des emails ou des notifications pour rappeler à ces clients l'existence de la marque et proposer des produits qui correspondent à leurs précédents achats.\n",
    "  - **Programmes de fidélité :** Introduire un programme de fidélité qui incite ces clients à augmenter leur fréquence d'achat et leur panier moyen.\n",
    "\n",
    "\n",
    "**Segment 1 : Clients achetant principalement en plusieurs fois avec faible fréquence**\n",
    "- **Description :** Ces clients dépensent un montant modéré (114.65) mais leur fréquence d'achat est relativement faible (1.04). Ils optent souvent pour des paiements en plusieurs fois (6.55 en moyenne) et achètent peu d'articles (1.07). Leur activité est assez récente (257.69 jours) et leur valeur de fret est modeste (19.79).\n",
    "- **Actions Marketing :**\n",
    "  - **Offres sur les paiements fractionnés :** Promouvoir des options de paiement fractionné avec des conditions avantageuses pour attirer ces clients.\n",
    "  - **Ciblage de produits complémentaires :** Proposer des produits complémentaires ou accessoires pour augmenter leur panier moyen à chaque achat.\n",
    "  - **Campagnes de relance :** Envoyer des rappels et des offres limitées dans le temps pour les inciter à acheter plus fréquemment.\n",
    "\n",
    "**Segment 2 : Clients à haute valeur avec achats fréquents et importants**\n",
    "- **Description :** Ce segment est constitué de clients à haute valeur avec la dépense totale la plus élevée (697.61) et la fréquence d'achat la plus élevée (7.13). Ils achètent de nombreux articles (21.37) et leur valeur de fret est également la plus élevée (152.13). Ces clients sont relativement récents (230.55 jours).\n",
    "- **Actions Marketing :**\n",
    "  - **Programme VIP :** Mettre en place un programme exclusif avec des avantages premium pour récompenser et retenir ces clients de grande valeur.\n",
    "  - **Service client personnalisé :** Offrir un service dédié pour répondre rapidement à leurs besoins et maintenir leur satisfaction.\n",
    "  - **Accès en avant-première :** Proposer un accès prioritaire aux nouveaux produits ou ventes pour stimuler leur engagement continu.\n",
    "\n",
    "**Segment 3 : Clients réguliers avec paniers d’achat moyens**\n",
    "- **Description :** Ces clients ont une dépense totale relativement élevée (540.07) et achètent régulièrement (2.23 fois en moyenne). Ils achètent un nombre modéré d'articles (3.39) avec une valeur de fret assez élevée (66.47). Leur activité est également récente (229.38 jours).\n",
    "- **Actions Marketing :**\n",
    "  - **Offres groupées :** Proposer des offres groupées ou des réductions sur les achats multiples pour encourager ces clients à acheter davantage lors de chaque commande.\n",
    "  - **Emails de recommandation :** Envoyer des recommandations personnalisées basées sur leurs précédents achats pour augmenter la fréquence d'achat.\n",
    "  - **Programmes de fidélité :** Mettre en avant les avantages du programme de fidélité pour les inciter à continuer d'acheter régulièrement.\n",
    "\n",
    "**Segment 4 : Clients récents et peu engagés**\n",
    "- **Description :** Ce segment comprend des clients avec une dépense totale faible (107.20) et une fréquence d'achat basse (1.11). Ils achètent peu d'articles (1.17) mais sont assez récents dans leur engagement (129.71 jours). Leur valeur de fret est également faible (20.28).\n",
    "- **Actions Marketing :**\n",
    "  - **Offres de bienvenue :** Lancer des campagnes de bienvenue pour ces clients récents avec des offres spéciales pour les inciter à effectuer de nouveaux achats.\n",
    "  - **Communication proactive :** Maintenir un contact régulier avec des suggestions de produits personnalisés pour les engager davantage.\n",
    "  - **Récompenses pour achat récurrent :** Proposer des remises ou des avantages supplémentaires pour encourager ces clients à acheter plus fréquemment."
   ]
  }
 ],
 "metadata": {
  "kernelspec": {
   "display_name": "Python 3",
   "language": "python",
   "name": "python3"
  },
  "language_info": {
   "codemirror_mode": {
    "name": "ipython",
    "version": 3
   },
   "file_extension": ".py",
   "mimetype": "text/x-python",
   "name": "python",
   "nbconvert_exporter": "python",
   "pygments_lexer": "ipython3",
   "version": "3.8.19"
  }
 },
 "nbformat": 4,
 "nbformat_minor": 2
}
